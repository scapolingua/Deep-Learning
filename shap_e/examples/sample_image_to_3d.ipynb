{
  "cells": [
    {
      "cell_type": "code",
      "source": [
        "!git clone https://github.com/openai/shap-e.git\n"
      ],
      "metadata": {
        "colab": {
          "base_uri": "https://localhost:8080/"
        },
        "id": "TF_M64Kt0TMJ",
        "outputId": "ad1dc4b4-d17c-48e9-83c0-a49a5de7ad2f"
      },
      "id": "TF_M64Kt0TMJ",
      "execution_count": 3,
      "outputs": [
        {
          "output_type": "stream",
          "name": "stdout",
          "text": [
            "Cloning into 'shap-e'...\n",
            "remote: Enumerating objects: 336, done.\u001b[K\n",
            "remote: Counting objects: 100% (260/260), done.\u001b[K\n",
            "remote: Compressing objects: 100% (241/241), done.\u001b[K\n",
            "remote: Total 336 (delta 41), reused 218 (delta 18), pack-reused 76\u001b[K\n",
            "Receiving objects: 100% (336/336), 11.72 MiB | 18.33 MiB/s, done.\n",
            "Resolving deltas: 100% (44/44), done.\n"
          ]
        }
      ]
    },
    {
      "cell_type": "code",
      "source": [
        "%cd /content/shap-e"
      ],
      "metadata": {
        "colab": {
          "base_uri": "https://localhost:8080/"
        },
        "id": "EvNqdsiUn-Dq",
        "outputId": "17853f65-7a69-4286-8012-eca481fe374d"
      },
      "id": "EvNqdsiUn-Dq",
      "execution_count": 9,
      "outputs": [
        {
          "output_type": "stream",
          "name": "stdout",
          "text": [
            "/content/shap-e\n"
          ]
        }
      ]
    },
    {
      "cell_type": "code",
      "source": [
        "!ls"
      ],
      "metadata": {
        "colab": {
          "base_uri": "https://localhost:8080/"
        },
        "id": "4GWwZFUwoCkj",
        "outputId": "c55db7be-f9fb-449c-dfc4-9ca2bf1c1f1b"
      },
      "id": "4GWwZFUwoCkj",
      "execution_count": 10,
      "outputs": [
        {
          "output_type": "stream",
          "name": "stdout",
          "text": [
            "LICENSE  model-card.md\tREADME.md  samples  samples.md\tsetup.py  shap_e\n"
          ]
        }
      ]
    },
    {
      "cell_type": "code",
      "source": [
        "%pip install -e ."
      ],
      "metadata": {
        "colab": {
          "base_uri": "https://localhost:8080/"
        },
        "id": "2zIAyZjAnrLN",
        "outputId": "161c1204-bfac-4edc-be9d-8ecf4a48371d"
      },
      "id": "2zIAyZjAnrLN",
      "execution_count": 11,
      "outputs": [
        {
          "output_type": "stream",
          "name": "stdout",
          "text": [
            "Obtaining file:///content/shap-e\n",
            "  Preparing metadata (setup.py) ... \u001b[?25l\u001b[?25hdone\n",
            "Collecting clip@ git+https://github.com/openai/CLIP.git (from shap-e==0.0.0)\n",
            "  Cloning https://github.com/openai/CLIP.git to /tmp/pip-install-ob55ne3r/clip_79f5d68426e0455bb2fe2012adc83bba\n",
            "  Running command git clone --filter=blob:none --quiet https://github.com/openai/CLIP.git /tmp/pip-install-ob55ne3r/clip_79f5d68426e0455bb2fe2012adc83bba\n",
            "  Resolved https://github.com/openai/CLIP.git to commit a1d071733d7111c9c014f024669f959182114e33\n",
            "  Preparing metadata (setup.py) ... \u001b[?25l\u001b[?25hdone\n",
            "Requirement already satisfied: filelock in /usr/local/lib/python3.10/dist-packages (from shap-e==0.0.0) (3.13.1)\n",
            "Requirement already satisfied: Pillow in /usr/local/lib/python3.10/dist-packages (from shap-e==0.0.0) (9.4.0)\n",
            "Requirement already satisfied: torch in /usr/local/lib/python3.10/dist-packages (from shap-e==0.0.0) (2.1.0+cu121)\n",
            "Collecting fire (from shap-e==0.0.0)\n",
            "  Downloading fire-0.5.0.tar.gz (88 kB)\n",
            "\u001b[2K     \u001b[90m━━━━━━━━━━━━━━━━━━━━━━━━━━━━━━━━━━━━━━━━\u001b[0m \u001b[32m88.3/88.3 kB\u001b[0m \u001b[31m2.2 MB/s\u001b[0m eta \u001b[36m0:00:00\u001b[0m\n",
            "\u001b[?25h  Preparing metadata (setup.py) ... \u001b[?25l\u001b[?25hdone\n",
            "Requirement already satisfied: humanize in /usr/local/lib/python3.10/dist-packages (from shap-e==0.0.0) (4.7.0)\n",
            "Requirement already satisfied: requests in /usr/local/lib/python3.10/dist-packages (from shap-e==0.0.0) (2.31.0)\n",
            "Requirement already satisfied: tqdm in /usr/local/lib/python3.10/dist-packages (from shap-e==0.0.0) (4.66.1)\n",
            "Requirement already satisfied: matplotlib in /usr/local/lib/python3.10/dist-packages (from shap-e==0.0.0) (3.7.1)\n",
            "Requirement already satisfied: scikit-image in /usr/local/lib/python3.10/dist-packages (from shap-e==0.0.0) (0.19.3)\n",
            "Requirement already satisfied: scipy in /usr/local/lib/python3.10/dist-packages (from shap-e==0.0.0) (1.11.4)\n",
            "Requirement already satisfied: numpy in /usr/local/lib/python3.10/dist-packages (from shap-e==0.0.0) (1.23.5)\n",
            "Collecting blobfile (from shap-e==0.0.0)\n",
            "  Downloading blobfile-2.1.1-py3-none-any.whl (73 kB)\n",
            "\u001b[2K     \u001b[90m━━━━━━━━━━━━━━━━━━━━━━━━━━━━━━━━━━━━━━━━\u001b[0m \u001b[32m73.7/73.7 kB\u001b[0m \u001b[31m9.8 MB/s\u001b[0m eta \u001b[36m0:00:00\u001b[0m\n",
            "\u001b[?25hCollecting pycryptodomex~=3.8 (from blobfile->shap-e==0.0.0)\n",
            "  Downloading pycryptodomex-3.20.0-cp35-abi3-manylinux_2_17_x86_64.manylinux2014_x86_64.whl (2.1 MB)\n",
            "\u001b[2K     \u001b[90m━━━━━━━━━━━━━━━━━━━━━━━━━━━━━━━━━━━━━━━━\u001b[0m \u001b[32m2.1/2.1 MB\u001b[0m \u001b[31m45.7 MB/s\u001b[0m eta \u001b[36m0:00:00\u001b[0m\n",
            "\u001b[?25hRequirement already satisfied: urllib3<3,>=1.25.3 in /usr/local/lib/python3.10/dist-packages (from blobfile->shap-e==0.0.0) (2.0.7)\n",
            "Requirement already satisfied: lxml~=4.9 in /usr/local/lib/python3.10/dist-packages (from blobfile->shap-e==0.0.0) (4.9.4)\n",
            "Collecting ftfy (from clip@ git+https://github.com/openai/CLIP.git->shap-e==0.0.0)\n",
            "  Downloading ftfy-6.1.3-py3-none-any.whl (53 kB)\n",
            "\u001b[2K     \u001b[90m━━━━━━━━━━━━━━━━━━━━━━━━━━━━━━━━━━━━━━━━\u001b[0m \u001b[32m53.4/53.4 kB\u001b[0m \u001b[31m8.2 MB/s\u001b[0m eta \u001b[36m0:00:00\u001b[0m\n",
            "\u001b[?25hRequirement already satisfied: regex in /usr/local/lib/python3.10/dist-packages (from clip@ git+https://github.com/openai/CLIP.git->shap-e==0.0.0) (2023.6.3)\n",
            "Requirement already satisfied: torchvision in /usr/local/lib/python3.10/dist-packages (from clip@ git+https://github.com/openai/CLIP.git->shap-e==0.0.0) (0.16.0+cu121)\n",
            "Requirement already satisfied: six in /usr/local/lib/python3.10/dist-packages (from fire->shap-e==0.0.0) (1.16.0)\n",
            "Requirement already satisfied: termcolor in /usr/local/lib/python3.10/dist-packages (from fire->shap-e==0.0.0) (2.4.0)\n",
            "Requirement already satisfied: contourpy>=1.0.1 in /usr/local/lib/python3.10/dist-packages (from matplotlib->shap-e==0.0.0) (1.2.0)\n",
            "Requirement already satisfied: cycler>=0.10 in /usr/local/lib/python3.10/dist-packages (from matplotlib->shap-e==0.0.0) (0.12.1)\n",
            "Requirement already satisfied: fonttools>=4.22.0 in /usr/local/lib/python3.10/dist-packages (from matplotlib->shap-e==0.0.0) (4.47.2)\n",
            "Requirement already satisfied: kiwisolver>=1.0.1 in /usr/local/lib/python3.10/dist-packages (from matplotlib->shap-e==0.0.0) (1.4.5)\n",
            "Requirement already satisfied: packaging>=20.0 in /usr/local/lib/python3.10/dist-packages (from matplotlib->shap-e==0.0.0) (23.2)\n",
            "Requirement already satisfied: pyparsing>=2.3.1 in /usr/local/lib/python3.10/dist-packages (from matplotlib->shap-e==0.0.0) (3.1.1)\n",
            "Requirement already satisfied: python-dateutil>=2.7 in /usr/local/lib/python3.10/dist-packages (from matplotlib->shap-e==0.0.0) (2.8.2)\n",
            "Requirement already satisfied: charset-normalizer<4,>=2 in /usr/local/lib/python3.10/dist-packages (from requests->shap-e==0.0.0) (3.3.2)\n",
            "Requirement already satisfied: idna<4,>=2.5 in /usr/local/lib/python3.10/dist-packages (from requests->shap-e==0.0.0) (3.6)\n",
            "Requirement already satisfied: certifi>=2017.4.17 in /usr/local/lib/python3.10/dist-packages (from requests->shap-e==0.0.0) (2023.11.17)\n",
            "Requirement already satisfied: networkx>=2.2 in /usr/local/lib/python3.10/dist-packages (from scikit-image->shap-e==0.0.0) (3.2.1)\n",
            "Requirement already satisfied: imageio>=2.4.1 in /usr/local/lib/python3.10/dist-packages (from scikit-image->shap-e==0.0.0) (2.31.6)\n",
            "Requirement already satisfied: tifffile>=2019.7.26 in /usr/local/lib/python3.10/dist-packages (from scikit-image->shap-e==0.0.0) (2023.12.9)\n",
            "Requirement already satisfied: PyWavelets>=1.1.1 in /usr/local/lib/python3.10/dist-packages (from scikit-image->shap-e==0.0.0) (1.5.0)\n",
            "Requirement already satisfied: typing-extensions in /usr/local/lib/python3.10/dist-packages (from torch->shap-e==0.0.0) (4.5.0)\n",
            "Requirement already satisfied: sympy in /usr/local/lib/python3.10/dist-packages (from torch->shap-e==0.0.0) (1.12)\n",
            "Requirement already satisfied: jinja2 in /usr/local/lib/python3.10/dist-packages (from torch->shap-e==0.0.0) (3.1.3)\n",
            "Requirement already satisfied: fsspec in /usr/local/lib/python3.10/dist-packages (from torch->shap-e==0.0.0) (2023.6.0)\n",
            "Requirement already satisfied: triton==2.1.0 in /usr/local/lib/python3.10/dist-packages (from torch->shap-e==0.0.0) (2.1.0)\n",
            "Requirement already satisfied: wcwidth<0.3.0,>=0.2.12 in /usr/local/lib/python3.10/dist-packages (from ftfy->clip@ git+https://github.com/openai/CLIP.git->shap-e==0.0.0) (0.2.13)\n",
            "Requirement already satisfied: MarkupSafe>=2.0 in /usr/local/lib/python3.10/dist-packages (from jinja2->torch->shap-e==0.0.0) (2.1.3)\n",
            "Requirement already satisfied: mpmath>=0.19 in /usr/local/lib/python3.10/dist-packages (from sympy->torch->shap-e==0.0.0) (1.3.0)\n",
            "Building wheels for collected packages: clip, fire\n",
            "  Building wheel for clip (setup.py) ... \u001b[?25l\u001b[?25hdone\n",
            "  Created wheel for clip: filename=clip-1.0-py3-none-any.whl size=1369497 sha256=5f5a5b77a1b08f06eccea492474cdaadb0c4ed3369c436ee86c7e3f2e8f38a41\n",
            "  Stored in directory: /tmp/pip-ephem-wheel-cache-falyu_0y/wheels/da/2b/4c/d6691fa9597aac8bb85d2ac13b112deb897d5b50f5ad9a37e4\n",
            "  Building wheel for fire (setup.py) ... \u001b[?25l\u001b[?25hdone\n",
            "  Created wheel for fire: filename=fire-0.5.0-py2.py3-none-any.whl size=116934 sha256=1c06f8b58a2ebf487790b0657146aff43ff24e487ec5116e0dc1e23318d1afd3\n",
            "  Stored in directory: /root/.cache/pip/wheels/90/d4/f7/9404e5db0116bd4d43e5666eaa3e70ab53723e1e3ea40c9a95\n",
            "Successfully built clip fire\n",
            "Installing collected packages: pycryptodomex, ftfy, fire, blobfile, clip, shap-e\n",
            "  Running setup.py develop for shap-e\n",
            "Successfully installed blobfile-2.1.1 clip-1.0 fire-0.5.0 ftfy-6.1.3 pycryptodomex-3.20.0 shap-e-0.0.0\n"
          ]
        }
      ]
    },
    {
      "cell_type": "code",
      "execution_count": 12,
      "id": "964ccced",
      "metadata": {
        "id": "964ccced"
      },
      "outputs": [],
      "source": [
        "import torch\n",
        "\n",
        "from shap_e.diffusion.sample import sample_latents\n",
        "from shap_e.diffusion.gaussian_diffusion import diffusion_from_config\n",
        "from shap_e.models.download import load_model, load_config\n",
        "from shap_e.util.notebooks import create_pan_cameras, decode_latent_images, gif_widget\n",
        "from shap_e.util.image_util import load_image"
      ]
    },
    {
      "cell_type": "code",
      "execution_count": 13,
      "id": "8eed3a76",
      "metadata": {
        "id": "8eed3a76"
      },
      "outputs": [],
      "source": [
        "device = torch.device('cuda' if torch.cuda.is_available() else 'cpu')"
      ]
    },
    {
      "cell_type": "code",
      "execution_count": 15,
      "id": "2d922637",
      "metadata": {
        "id": "2d922637"
      },
      "outputs": [],
      "source": [
        "xm = load_model('transmitter', device=device)\n",
        "model = load_model('image300M', device=device)\n",
        "diffusion = diffusion_from_config(load_config('diffusion'))"
      ]
    },
    {
      "cell_type": "code",
      "execution_count": 18,
      "id": "53d329d0",
      "metadata": {
        "colab": {
          "base_uri": "https://localhost:8080/",
          "height": 49,
          "referenced_widgets": [
            "7dde46f10eb440a18bb5bb87ce494bc3",
            "19cf700d65ca4cd38c296e735a71a5db",
            "e20a26127cc9419a8a593580d080fae4",
            "06e8728f5d594dbe94de674f7684839f",
            "ab73e96645e842cc83c095f9697a14c1",
            "723db23e5a8140dd88977867a8267b56",
            "6c5e91a0f0d0483dbeef510d99745df9",
            "0b8f40c58b2b408a88c3131069f91996",
            "89eb414fb66947189704d01829935176",
            "e928ad635f8248bfb91a256c1286e4cb",
            "398e748efd774134b2643876db7678b7"
          ]
        },
        "id": "53d329d0",
        "outputId": "de86ec8d-cc33-4358-f26e-71a6e893337a"
      },
      "outputs": [
        {
          "output_type": "display_data",
          "data": {
            "text/plain": [
              "  0%|          | 0/64 [00:00<?, ?it/s]"
            ],
            "application/vnd.jupyter.widget-view+json": {
              "version_major": 2,
              "version_minor": 0,
              "model_id": "7dde46f10eb440a18bb5bb87ce494bc3"
            }
          },
          "metadata": {}
        }
      ],
      "source": [
        "batch_size = 4\n",
        "guidance_scale = 3.0\n",
        "\n",
        "# To get the best result, you should remove the background and show only the object of interest to the model.\n",
        "image = load_image(\"/content/shap-e/shap_e/examples/example_data/corgi.png\")\n",
        "\n",
        "latents = sample_latents(\n",
        "    batch_size=batch_size,\n",
        "    model=model,\n",
        "    diffusion=diffusion,\n",
        "    guidance_scale=guidance_scale,\n",
        "    model_kwargs=dict(images=[image] * batch_size),\n",
        "    progress=True,\n",
        "    clip_denoised=True,\n",
        "    use_fp16=True,\n",
        "    use_karras=True,\n",
        "    karras_steps=64,\n",
        "    sigma_min=1e-3,\n",
        "    sigma_max=160,\n",
        "    s_churn=0,\n",
        ")"
      ]
    },
    {
      "cell_type": "code",
      "source": [
        "import sys\n",
        "import torch\n",
        "pyt_version_str=torch.__version__.split(\"+\")[0].replace(\".\", \"\")\n",
        "version_str=\"\".join([\n",
        "    f\"py3{sys.version_info.minor}_cu\",\n",
        "    torch.version.cuda.replace(\".\",\"\"),\n",
        "    f\"_pyt{pyt_version_str}\"\n",
        "])\n",
        "!pip install fvcore iopath\n",
        "!pip install --no-index --no-cache-dir pytorch3d -f https://dl.fbaipublicfiles.com/pytorch3d/packaging/wheels/{version_str}/download.html"
      ],
      "metadata": {
        "id": "Rs-odbtms9wK",
        "outputId": "b9457fe7-0b7b-4e65-ed6b-65a4245b727c",
        "colab": {
          "base_uri": "https://localhost:8080/"
        }
      },
      "id": "Rs-odbtms9wK",
      "execution_count": 26,
      "outputs": [
        {
          "output_type": "stream",
          "name": "stdout",
          "text": [
            "Collecting fvcore\n",
            "  Downloading fvcore-0.1.5.post20221221.tar.gz (50 kB)\n",
            "\u001b[2K     \u001b[90m━━━━━━━━━━━━━━━━━━━━━━━━━━━━━━━━━━━━━━━━\u001b[0m \u001b[32m50.2/50.2 kB\u001b[0m \u001b[31m754.2 kB/s\u001b[0m eta \u001b[36m0:00:00\u001b[0m\n",
            "\u001b[?25h  Preparing metadata (setup.py) ... \u001b[?25l\u001b[?25hdone\n",
            "Collecting iopath\n",
            "  Downloading iopath-0.1.10.tar.gz (42 kB)\n",
            "\u001b[2K     \u001b[90m━━━━━━━━━━━━━━━━━━━━━━━━━━━━━━━━━━━━━━━━\u001b[0m \u001b[32m42.2/42.2 kB\u001b[0m \u001b[31m2.2 MB/s\u001b[0m eta \u001b[36m0:00:00\u001b[0m\n",
            "\u001b[?25h  Preparing metadata (setup.py) ... \u001b[?25l\u001b[?25hdone\n",
            "Requirement already satisfied: numpy in /usr/local/lib/python3.10/dist-packages (from fvcore) (1.23.5)\n",
            "Collecting yacs>=0.1.6 (from fvcore)\n",
            "  Downloading yacs-0.1.8-py3-none-any.whl (14 kB)\n",
            "Requirement already satisfied: pyyaml>=5.1 in /usr/local/lib/python3.10/dist-packages (from fvcore) (6.0.1)\n",
            "Requirement already satisfied: tqdm in /usr/local/lib/python3.10/dist-packages (from fvcore) (4.66.1)\n",
            "Requirement already satisfied: termcolor>=1.1 in /usr/local/lib/python3.10/dist-packages (from fvcore) (2.4.0)\n",
            "Requirement already satisfied: Pillow in /usr/local/lib/python3.10/dist-packages (from fvcore) (9.4.0)\n",
            "Requirement already satisfied: tabulate in /usr/local/lib/python3.10/dist-packages (from fvcore) (0.9.0)\n",
            "Requirement already satisfied: typing_extensions in /usr/local/lib/python3.10/dist-packages (from iopath) (4.5.0)\n",
            "Collecting portalocker (from iopath)\n",
            "  Downloading portalocker-2.8.2-py3-none-any.whl (17 kB)\n",
            "Building wheels for collected packages: fvcore, iopath\n",
            "  Building wheel for fvcore (setup.py) ... \u001b[?25l\u001b[?25hdone\n",
            "  Created wheel for fvcore: filename=fvcore-0.1.5.post20221221-py3-none-any.whl size=61400 sha256=6a37e0d5fa1f56bea5acf30bff79a44efbcca1ea57a9c328ac6d3030bc716636\n",
            "  Stored in directory: /root/.cache/pip/wheels/01/c0/af/77c1cf53a1be9e42a52b48e5af2169d40ec2e89f7362489dd0\n",
            "  Building wheel for iopath (setup.py) ... \u001b[?25l\u001b[?25hdone\n",
            "  Created wheel for iopath: filename=iopath-0.1.10-py3-none-any.whl size=31532 sha256=4a54991a691a4a434784654e332a86699ece19231380003315e42972fd3f932b\n",
            "  Stored in directory: /root/.cache/pip/wheels/9a/a3/b6/ac0fcd1b4ed5cfeb3db92e6a0e476cfd48ed0df92b91080c1d\n",
            "Successfully built fvcore iopath\n",
            "Installing collected packages: yacs, portalocker, iopath, fvcore\n",
            "Successfully installed fvcore-0.1.5.post20221221 iopath-0.1.10 portalocker-2.8.2 yacs-0.1.8\n",
            "Looking in links: https://dl.fbaipublicfiles.com/pytorch3d/packaging/wheels/py310_cu121_pyt210/download.html\n",
            "Collecting pytorch3d\n",
            "  Downloading https://dl.fbaipublicfiles.com/pytorch3d/packaging/wheels/py310_cu121_pyt210/pytorch3d-0.7.5-cp310-cp310-linux_x86_64.whl (20.3 MB)\n",
            "\u001b[2K     \u001b[90m━━━━━━━━━━━━━━━━━━━━━━━━━━━━━━━━━━━━━━━━\u001b[0m \u001b[32m20.3/20.3 MB\u001b[0m \u001b[31m154.2 MB/s\u001b[0m eta \u001b[36m0:00:00\u001b[0m\n",
            "\u001b[?25hRequirement already satisfied: fvcore in /usr/local/lib/python3.10/dist-packages (from pytorch3d) (0.1.5.post20221221)\n",
            "Requirement already satisfied: iopath in /usr/local/lib/python3.10/dist-packages (from pytorch3d) (0.1.10)\n",
            "Requirement already satisfied: numpy in /usr/local/lib/python3.10/dist-packages (from fvcore->pytorch3d) (1.23.5)\n",
            "Requirement already satisfied: yacs>=0.1.6 in /usr/local/lib/python3.10/dist-packages (from fvcore->pytorch3d) (0.1.8)\n",
            "Requirement already satisfied: pyyaml>=5.1 in /usr/local/lib/python3.10/dist-packages (from fvcore->pytorch3d) (6.0.1)\n",
            "Requirement already satisfied: tqdm in /usr/local/lib/python3.10/dist-packages (from fvcore->pytorch3d) (4.66.1)\n",
            "Requirement already satisfied: termcolor>=1.1 in /usr/local/lib/python3.10/dist-packages (from fvcore->pytorch3d) (2.4.0)\n",
            "Requirement already satisfied: Pillow in /usr/local/lib/python3.10/dist-packages (from fvcore->pytorch3d) (9.4.0)\n",
            "Requirement already satisfied: tabulate in /usr/local/lib/python3.10/dist-packages (from fvcore->pytorch3d) (0.9.0)\n",
            "Requirement already satisfied: typing-extensions in /usr/local/lib/python3.10/dist-packages (from iopath->pytorch3d) (4.5.0)\n",
            "Requirement already satisfied: portalocker in /usr/local/lib/python3.10/dist-packages (from iopath->pytorch3d) (2.8.2)\n",
            "Installing collected packages: pytorch3d\n",
            "Successfully installed pytorch3d-0.7.5\n"
          ]
        }
      ]
    },
    {
      "cell_type": "code",
      "execution_count": 27,
      "id": "633da2ec",
      "metadata": {
        "colab": {
          "base_uri": "https://localhost:8080/",
          "height": 321,
          "referenced_widgets": [
            "f9fba47f4b674de2957baf21697f5ffc",
            "0b95c59a8a894636a54b226366634336",
            "c5b940ac875b49d383c1a0d30468f1c4",
            "ca074249ce3b4ac6b4d5541f4deb7362",
            "afb1a777c0544886a46e21d434e49784",
            "6487dfe42b044cd4aeb1cd561c4031b1",
            "429bea5c3ad84b0eba586b868cd94253",
            "7bc96e705cde47b58228989027bd9498",
            "94a7f57aba8a416db6ebe02e6f0f39e6",
            "c607c6259a7c48db9f24b03ba98a8f43",
            "5c7d73b44a4d44e4b08b66f4d1b5ce36",
            "6ff9b660352b4ccdaa37bbcdba98fae8"
          ]
        },
        "id": "633da2ec",
        "outputId": "8440f099-5055-4476-80de-0e8d3072579f"
      },
      "outputs": [
        {
          "output_type": "display_data",
          "data": {
            "text/plain": [
              "HTML(value='<img src=\"data:image/gif;base64,R0lGODlhQABAAIcAAPPr4/Tn3uvj2+bg2OPb0+LZ0d/Xz+vSxerPwd3Uy9vRyN7Lvd…"
            ],
            "application/vnd.jupyter.widget-view+json": {
              "version_major": 2,
              "version_minor": 0,
              "model_id": "f9fba47f4b674de2957baf21697f5ffc"
            }
          },
          "metadata": {}
        },
        {
          "output_type": "display_data",
          "data": {
            "text/plain": [
              "HTML(value='<img src=\"data:image/gif;base64,R0lGODlhQABAAIcAAPfv5/Xs5fPr4/Ho4O7h2eHPxNvNwsnCucjCuMfDvMfBtse+ts…"
            ],
            "application/vnd.jupyter.widget-view+json": {
              "version_major": 2,
              "version_minor": 0,
              "model_id": "ca074249ce3b4ac6b4d5541f4deb7362"
            }
          },
          "metadata": {}
        },
        {
          "output_type": "display_data",
          "data": {
            "text/plain": [
              "HTML(value='<img src=\"data:image/gif;base64,R0lGODlhQABAAIcAAPXt6fPr5/Lp5PDm4O/m4uvh2+vg2+ng2+be2Obc2Obb1ePa1O…"
            ],
            "application/vnd.jupyter.widget-view+json": {
              "version_major": 2,
              "version_minor": 0,
              "model_id": "429bea5c3ad84b0eba586b868cd94253"
            }
          },
          "metadata": {}
        },
        {
          "output_type": "display_data",
          "data": {
            "text/plain": [
              "HTML(value='<img src=\"data:image/gif;base64,R0lGODlhQABAAIcAAPPn4fLm4PHl3+/k3u/g2e3h3Ovg2u3f2Ozd1u7c1Onc1u3b0u…"
            ],
            "application/vnd.jupyter.widget-view+json": {
              "version_major": 2,
              "version_minor": 0,
              "model_id": "c607c6259a7c48db9f24b03ba98a8f43"
            }
          },
          "metadata": {}
        }
      ],
      "source": [
        "render_mode = 'stf' # you can change this to 'stf' or 'nerf' for mesh rendering\n",
        "size = 64 # this is the size of the renders; higher values take longer to render.\n",
        "\n",
        "cameras = create_pan_cameras(size, device)\n",
        "for i, latent in enumerate(latents):\n",
        "    images = decode_latent_images(xm, latent, cameras, rendering_mode=render_mode)\n",
        "    display(gif_widget(images))"
      ]
    }
  ],
  "metadata": {
    "kernelspec": {
      "display_name": "Python 3",
      "name": "python3"
    },
    "language_info": {
      "codemirror_mode": {
        "name": "ipython",
        "version": 3
      },
      "file_extension": ".py",
      "mimetype": "text/x-python",
      "name": "python",
      "nbconvert_exporter": "python",
      "pygments_lexer": "ipython3",
      "version": "3.9.9"
    },
    "colab": {
      "provenance": [],
      "gpuType": "T4"
    },
    "accelerator": "GPU",
    "widgets": {
      "application/vnd.jupyter.widget-state+json": {
        "7dde46f10eb440a18bb5bb87ce494bc3": {
          "model_module": "@jupyter-widgets/controls",
          "model_name": "HBoxModel",
          "model_module_version": "1.5.0",
          "state": {
            "_dom_classes": [],
            "_model_module": "@jupyter-widgets/controls",
            "_model_module_version": "1.5.0",
            "_model_name": "HBoxModel",
            "_view_count": null,
            "_view_module": "@jupyter-widgets/controls",
            "_view_module_version": "1.5.0",
            "_view_name": "HBoxView",
            "box_style": "",
            "children": [
              "IPY_MODEL_19cf700d65ca4cd38c296e735a71a5db",
              "IPY_MODEL_e20a26127cc9419a8a593580d080fae4",
              "IPY_MODEL_06e8728f5d594dbe94de674f7684839f"
            ],
            "layout": "IPY_MODEL_ab73e96645e842cc83c095f9697a14c1"
          }
        },
        "19cf700d65ca4cd38c296e735a71a5db": {
          "model_module": "@jupyter-widgets/controls",
          "model_name": "HTMLModel",
          "model_module_version": "1.5.0",
          "state": {
            "_dom_classes": [],
            "_model_module": "@jupyter-widgets/controls",
            "_model_module_version": "1.5.0",
            "_model_name": "HTMLModel",
            "_view_count": null,
            "_view_module": "@jupyter-widgets/controls",
            "_view_module_version": "1.5.0",
            "_view_name": "HTMLView",
            "description": "",
            "description_tooltip": null,
            "layout": "IPY_MODEL_723db23e5a8140dd88977867a8267b56",
            "placeholder": "​",
            "style": "IPY_MODEL_6c5e91a0f0d0483dbeef510d99745df9",
            "value": "100%"
          }
        },
        "e20a26127cc9419a8a593580d080fae4": {
          "model_module": "@jupyter-widgets/controls",
          "model_name": "FloatProgressModel",
          "model_module_version": "1.5.0",
          "state": {
            "_dom_classes": [],
            "_model_module": "@jupyter-widgets/controls",
            "_model_module_version": "1.5.0",
            "_model_name": "FloatProgressModel",
            "_view_count": null,
            "_view_module": "@jupyter-widgets/controls",
            "_view_module_version": "1.5.0",
            "_view_name": "ProgressView",
            "bar_style": "success",
            "description": "",
            "description_tooltip": null,
            "layout": "IPY_MODEL_0b8f40c58b2b408a88c3131069f91996",
            "max": 64,
            "min": 0,
            "orientation": "horizontal",
            "style": "IPY_MODEL_89eb414fb66947189704d01829935176",
            "value": 64
          }
        },
        "06e8728f5d594dbe94de674f7684839f": {
          "model_module": "@jupyter-widgets/controls",
          "model_name": "HTMLModel",
          "model_module_version": "1.5.0",
          "state": {
            "_dom_classes": [],
            "_model_module": "@jupyter-widgets/controls",
            "_model_module_version": "1.5.0",
            "_model_name": "HTMLModel",
            "_view_count": null,
            "_view_module": "@jupyter-widgets/controls",
            "_view_module_version": "1.5.0",
            "_view_name": "HTMLView",
            "description": "",
            "description_tooltip": null,
            "layout": "IPY_MODEL_e928ad635f8248bfb91a256c1286e4cb",
            "placeholder": "​",
            "style": "IPY_MODEL_398e748efd774134b2643876db7678b7",
            "value": " 64/64 [01:53&lt;00:00,  1.54s/it]"
          }
        },
        "ab73e96645e842cc83c095f9697a14c1": {
          "model_module": "@jupyter-widgets/base",
          "model_name": "LayoutModel",
          "model_module_version": "1.2.0",
          "state": {
            "_model_module": "@jupyter-widgets/base",
            "_model_module_version": "1.2.0",
            "_model_name": "LayoutModel",
            "_view_count": null,
            "_view_module": "@jupyter-widgets/base",
            "_view_module_version": "1.2.0",
            "_view_name": "LayoutView",
            "align_content": null,
            "align_items": null,
            "align_self": null,
            "border": null,
            "bottom": null,
            "display": null,
            "flex": null,
            "flex_flow": null,
            "grid_area": null,
            "grid_auto_columns": null,
            "grid_auto_flow": null,
            "grid_auto_rows": null,
            "grid_column": null,
            "grid_gap": null,
            "grid_row": null,
            "grid_template_areas": null,
            "grid_template_columns": null,
            "grid_template_rows": null,
            "height": null,
            "justify_content": null,
            "justify_items": null,
            "left": null,
            "margin": null,
            "max_height": null,
            "max_width": null,
            "min_height": null,
            "min_width": null,
            "object_fit": null,
            "object_position": null,
            "order": null,
            "overflow": null,
            "overflow_x": null,
            "overflow_y": null,
            "padding": null,
            "right": null,
            "top": null,
            "visibility": null,
            "width": null
          }
        },
        "723db23e5a8140dd88977867a8267b56": {
          "model_module": "@jupyter-widgets/base",
          "model_name": "LayoutModel",
          "model_module_version": "1.2.0",
          "state": {
            "_model_module": "@jupyter-widgets/base",
            "_model_module_version": "1.2.0",
            "_model_name": "LayoutModel",
            "_view_count": null,
            "_view_module": "@jupyter-widgets/base",
            "_view_module_version": "1.2.0",
            "_view_name": "LayoutView",
            "align_content": null,
            "align_items": null,
            "align_self": null,
            "border": null,
            "bottom": null,
            "display": null,
            "flex": null,
            "flex_flow": null,
            "grid_area": null,
            "grid_auto_columns": null,
            "grid_auto_flow": null,
            "grid_auto_rows": null,
            "grid_column": null,
            "grid_gap": null,
            "grid_row": null,
            "grid_template_areas": null,
            "grid_template_columns": null,
            "grid_template_rows": null,
            "height": null,
            "justify_content": null,
            "justify_items": null,
            "left": null,
            "margin": null,
            "max_height": null,
            "max_width": null,
            "min_height": null,
            "min_width": null,
            "object_fit": null,
            "object_position": null,
            "order": null,
            "overflow": null,
            "overflow_x": null,
            "overflow_y": null,
            "padding": null,
            "right": null,
            "top": null,
            "visibility": null,
            "width": null
          }
        },
        "6c5e91a0f0d0483dbeef510d99745df9": {
          "model_module": "@jupyter-widgets/controls",
          "model_name": "DescriptionStyleModel",
          "model_module_version": "1.5.0",
          "state": {
            "_model_module": "@jupyter-widgets/controls",
            "_model_module_version": "1.5.0",
            "_model_name": "DescriptionStyleModel",
            "_view_count": null,
            "_view_module": "@jupyter-widgets/base",
            "_view_module_version": "1.2.0",
            "_view_name": "StyleView",
            "description_width": ""
          }
        },
        "0b8f40c58b2b408a88c3131069f91996": {
          "model_module": "@jupyter-widgets/base",
          "model_name": "LayoutModel",
          "model_module_version": "1.2.0",
          "state": {
            "_model_module": "@jupyter-widgets/base",
            "_model_module_version": "1.2.0",
            "_model_name": "LayoutModel",
            "_view_count": null,
            "_view_module": "@jupyter-widgets/base",
            "_view_module_version": "1.2.0",
            "_view_name": "LayoutView",
            "align_content": null,
            "align_items": null,
            "align_self": null,
            "border": null,
            "bottom": null,
            "display": null,
            "flex": null,
            "flex_flow": null,
            "grid_area": null,
            "grid_auto_columns": null,
            "grid_auto_flow": null,
            "grid_auto_rows": null,
            "grid_column": null,
            "grid_gap": null,
            "grid_row": null,
            "grid_template_areas": null,
            "grid_template_columns": null,
            "grid_template_rows": null,
            "height": null,
            "justify_content": null,
            "justify_items": null,
            "left": null,
            "margin": null,
            "max_height": null,
            "max_width": null,
            "min_height": null,
            "min_width": null,
            "object_fit": null,
            "object_position": null,
            "order": null,
            "overflow": null,
            "overflow_x": null,
            "overflow_y": null,
            "padding": null,
            "right": null,
            "top": null,
            "visibility": null,
            "width": null
          }
        },
        "89eb414fb66947189704d01829935176": {
          "model_module": "@jupyter-widgets/controls",
          "model_name": "ProgressStyleModel",
          "model_module_version": "1.5.0",
          "state": {
            "_model_module": "@jupyter-widgets/controls",
            "_model_module_version": "1.5.0",
            "_model_name": "ProgressStyleModel",
            "_view_count": null,
            "_view_module": "@jupyter-widgets/base",
            "_view_module_version": "1.2.0",
            "_view_name": "StyleView",
            "bar_color": null,
            "description_width": ""
          }
        },
        "e928ad635f8248bfb91a256c1286e4cb": {
          "model_module": "@jupyter-widgets/base",
          "model_name": "LayoutModel",
          "model_module_version": "1.2.0",
          "state": {
            "_model_module": "@jupyter-widgets/base",
            "_model_module_version": "1.2.0",
            "_model_name": "LayoutModel",
            "_view_count": null,
            "_view_module": "@jupyter-widgets/base",
            "_view_module_version": "1.2.0",
            "_view_name": "LayoutView",
            "align_content": null,
            "align_items": null,
            "align_self": null,
            "border": null,
            "bottom": null,
            "display": null,
            "flex": null,
            "flex_flow": null,
            "grid_area": null,
            "grid_auto_columns": null,
            "grid_auto_flow": null,
            "grid_auto_rows": null,
            "grid_column": null,
            "grid_gap": null,
            "grid_row": null,
            "grid_template_areas": null,
            "grid_template_columns": null,
            "grid_template_rows": null,
            "height": null,
            "justify_content": null,
            "justify_items": null,
            "left": null,
            "margin": null,
            "max_height": null,
            "max_width": null,
            "min_height": null,
            "min_width": null,
            "object_fit": null,
            "object_position": null,
            "order": null,
            "overflow": null,
            "overflow_x": null,
            "overflow_y": null,
            "padding": null,
            "right": null,
            "top": null,
            "visibility": null,
            "width": null
          }
        },
        "398e748efd774134b2643876db7678b7": {
          "model_module": "@jupyter-widgets/controls",
          "model_name": "DescriptionStyleModel",
          "model_module_version": "1.5.0",
          "state": {
            "_model_module": "@jupyter-widgets/controls",
            "_model_module_version": "1.5.0",
            "_model_name": "DescriptionStyleModel",
            "_view_count": null,
            "_view_module": "@jupyter-widgets/base",
            "_view_module_version": "1.2.0",
            "_view_name": "StyleView",
            "description_width": ""
          }
        },
        "f9fba47f4b674de2957baf21697f5ffc": {
          "model_module": "@jupyter-widgets/controls",
          "model_name": "HTMLModel",
          "model_module_version": "1.5.0",
          "state": {
            "_dom_classes": [],
            "_model_module": "@jupyter-widgets/controls",
            "_model_module_version": "1.5.0",
            "_model_name": "HTMLModel",
            "_view_count": null,
            "_view_module": "@jupyter-widgets/controls",
            "_view_module_version": "1.5.0",
            "_view_name": "HTMLView",
            "description": "",
            "description_tooltip": null,
            "layout": "IPY_MODEL_0b95c59a8a894636a54b226366634336",
            "placeholder": "​",
            "style": "IPY_MODEL_c5b940ac875b49d383c1a0d30468f1c4",
            "value": "<img src=\"data:image/gif;base64,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\" />"
          }
        },
        "0b95c59a8a894636a54b226366634336": {
          "model_module": "@jupyter-widgets/base",
          "model_name": "LayoutModel",
          "model_module_version": "1.2.0",
          "state": {
            "_model_module": "@jupyter-widgets/base",
            "_model_module_version": "1.2.0",
            "_model_name": "LayoutModel",
            "_view_count": null,
            "_view_module": "@jupyter-widgets/base",
            "_view_module_version": "1.2.0",
            "_view_name": "LayoutView",
            "align_content": null,
            "align_items": null,
            "align_self": null,
            "border": null,
            "bottom": null,
            "display": null,
            "flex": null,
            "flex_flow": null,
            "grid_area": null,
            "grid_auto_columns": null,
            "grid_auto_flow": null,
            "grid_auto_rows": null,
            "grid_column": null,
            "grid_gap": null,
            "grid_row": null,
            "grid_template_areas": null,
            "grid_template_columns": null,
            "grid_template_rows": null,
            "height": null,
            "justify_content": null,
            "justify_items": null,
            "left": null,
            "margin": null,
            "max_height": null,
            "max_width": null,
            "min_height": null,
            "min_width": null,
            "object_fit": null,
            "object_position": null,
            "order": null,
            "overflow": null,
            "overflow_x": null,
            "overflow_y": null,
            "padding": null,
            "right": null,
            "top": null,
            "visibility": null,
            "width": null
          }
        },
        "c5b940ac875b49d383c1a0d30468f1c4": {
          "model_module": "@jupyter-widgets/controls",
          "model_name": "DescriptionStyleModel",
          "model_module_version": "1.5.0",
          "state": {
            "_model_module": "@jupyter-widgets/controls",
            "_model_module_version": "1.5.0",
            "_model_name": "DescriptionStyleModel",
            "_view_count": null,
            "_view_module": "@jupyter-widgets/base",
            "_view_module_version": "1.2.0",
            "_view_name": "StyleView",
            "description_width": ""
          }
        },
        "ca074249ce3b4ac6b4d5541f4deb7362": {
          "model_module": "@jupyter-widgets/controls",
          "model_name": "HTMLModel",
          "model_module_version": "1.5.0",
          "state": {
            "_dom_classes": [],
            "_model_module": "@jupyter-widgets/controls",
            "_model_module_version": "1.5.0",
            "_model_name": "HTMLModel",
            "_view_count": null,
            "_view_module": "@jupyter-widgets/controls",
            "_view_module_version": "1.5.0",
            "_view_name": "HTMLView",
            "description": "",
            "description_tooltip": null,
            "layout": "IPY_MODEL_afb1a777c0544886a46e21d434e49784",
            "placeholder": "​",
            "style": "IPY_MODEL_6487dfe42b044cd4aeb1cd561c4031b1",
            "value": "<img src=\"data:image/gif;base64,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\" />"
          }
        },
        "afb1a777c0544886a46e21d434e49784": {
          "model_module": "@jupyter-widgets/base",
          "model_name": "LayoutModel",
          "model_module_version": "1.2.0",
          "state": {
            "_model_module": "@jupyter-widgets/base",
            "_model_module_version": "1.2.0",
            "_model_name": "LayoutModel",
            "_view_count": null,
            "_view_module": "@jupyter-widgets/base",
            "_view_module_version": "1.2.0",
            "_view_name": "LayoutView",
            "align_content": null,
            "align_items": null,
            "align_self": null,
            "border": null,
            "bottom": null,
            "display": null,
            "flex": null,
            "flex_flow": null,
            "grid_area": null,
            "grid_auto_columns": null,
            "grid_auto_flow": null,
            "grid_auto_rows": null,
            "grid_column": null,
            "grid_gap": null,
            "grid_row": null,
            "grid_template_areas": null,
            "grid_template_columns": null,
            "grid_template_rows": null,
            "height": null,
            "justify_content": null,
            "justify_items": null,
            "left": null,
            "margin": null,
            "max_height": null,
            "max_width": null,
            "min_height": null,
            "min_width": null,
            "object_fit": null,
            "object_position": null,
            "order": null,
            "overflow": null,
            "overflow_x": null,
            "overflow_y": null,
            "padding": null,
            "right": null,
            "top": null,
            "visibility": null,
            "width": null
          }
        },
        "6487dfe42b044cd4aeb1cd561c4031b1": {
          "model_module": "@jupyter-widgets/controls",
          "model_name": "DescriptionStyleModel",
          "model_module_version": "1.5.0",
          "state": {
            "_model_module": "@jupyter-widgets/controls",
            "_model_module_version": "1.5.0",
            "_model_name": "DescriptionStyleModel",
            "_view_count": null,
            "_view_module": "@jupyter-widgets/base",
            "_view_module_version": "1.2.0",
            "_view_name": "StyleView",
            "description_width": ""
          }
        },
        "429bea5c3ad84b0eba586b868cd94253": {
          "model_module": "@jupyter-widgets/controls",
          "model_name": "HTMLModel",
          "model_module_version": "1.5.0",
          "state": {
            "_dom_classes": [],
            "_model_module": "@jupyter-widgets/controls",
            "_model_module_version": "1.5.0",
            "_model_name": "HTMLModel",
            "_view_count": null,
            "_view_module": "@jupyter-widgets/controls",
            "_view_module_version": "1.5.0",
            "_view_name": "HTMLView",
            "description": "",
            "description_tooltip": null,
            "layout": "IPY_MODEL_7bc96e705cde47b58228989027bd9498",
            "placeholder": "​",
            "style": "IPY_MODEL_94a7f57aba8a416db6ebe02e6f0f39e6",
            "value": "<img src=\"data:image/gif;base64,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\" />"
          }
        },
        "7bc96e705cde47b58228989027bd9498": {
          "model_module": "@jupyter-widgets/base",
          "model_name": "LayoutModel",
          "model_module_version": "1.2.0",
          "state": {
            "_model_module": "@jupyter-widgets/base",
            "_model_module_version": "1.2.0",
            "_model_name": "LayoutModel",
            "_view_count": null,
            "_view_module": "@jupyter-widgets/base",
            "_view_module_version": "1.2.0",
            "_view_name": "LayoutView",
            "align_content": null,
            "align_items": null,
            "align_self": null,
            "border": null,
            "bottom": null,
            "display": null,
            "flex": null,
            "flex_flow": null,
            "grid_area": null,
            "grid_auto_columns": null,
            "grid_auto_flow": null,
            "grid_auto_rows": null,
            "grid_column": null,
            "grid_gap": null,
            "grid_row": null,
            "grid_template_areas": null,
            "grid_template_columns": null,
            "grid_template_rows": null,
            "height": null,
            "justify_content": null,
            "justify_items": null,
            "left": null,
            "margin": null,
            "max_height": null,
            "max_width": null,
            "min_height": null,
            "min_width": null,
            "object_fit": null,
            "object_position": null,
            "order": null,
            "overflow": null,
            "overflow_x": null,
            "overflow_y": null,
            "padding": null,
            "right": null,
            "top": null,
            "visibility": null,
            "width": null
          }
        },
        "94a7f57aba8a416db6ebe02e6f0f39e6": {
          "model_module": "@jupyter-widgets/controls",
          "model_name": "DescriptionStyleModel",
          "model_module_version": "1.5.0",
          "state": {
            "_model_module": "@jupyter-widgets/controls",
            "_model_module_version": "1.5.0",
            "_model_name": "DescriptionStyleModel",
            "_view_count": null,
            "_view_module": "@jupyter-widgets/base",
            "_view_module_version": "1.2.0",
            "_view_name": "StyleView",
            "description_width": ""
          }
        },
        "c607c6259a7c48db9f24b03ba98a8f43": {
          "model_module": "@jupyter-widgets/controls",
          "model_name": "HTMLModel",
          "model_module_version": "1.5.0",
          "state": {
            "_dom_classes": [],
            "_model_module": "@jupyter-widgets/controls",
            "_model_module_version": "1.5.0",
            "_model_name": "HTMLModel",
            "_view_count": null,
            "_view_module": "@jupyter-widgets/controls",
            "_view_module_version": "1.5.0",
            "_view_name": "HTMLView",
            "description": "",
            "description_tooltip": null,
            "layout": "IPY_MODEL_5c7d73b44a4d44e4b08b66f4d1b5ce36",
            "placeholder": "​",
            "style": "IPY_MODEL_6ff9b660352b4ccdaa37bbcdba98fae8",
            "value": "<img src=\"data:image/gif;base64,R0lGODlhQABAAIcAAPPn4fLm4PHl3+/k3u/g2e3h3Ovg2u3f2Ozd1u7c1Onc1u3b0urb1Onb1Onb0+nXz+XW0OTW0OXVzeXUzeTUzOLUzODSyuDRyd7RyePQx+DPx93OxdzOxdzMxdnMxtnMxNnLw9nLwtjKwtnJwtTHv9TGvtLDu9DBvM/Bus7BuM7Bt8vAucy/tsu/tcnAuMq+tc29uMy9tsq8s8m7s8m7sca4ssW2q8O3r7+2r8G1rb+xqsqtmsCup7ywqbuvqLurpberpMinkLioobSoobOnn7Oim7+bhsGYgq+hmbuWgLeWgq2hmqyhm62gmqufmKublKuak6Gak62ZjqeYkqWZk7mVgLeQeriEac2AIaCGeq9/V5yQipmNh5mMho+KhJ5/Z42HgIiHfsJ5K8V5GcBzHcFyCcpxAcpvAshvAsVtAr9tA79tAr9tAcJsAsBsAsBsAb9rAsBqAr9qArJ3N75sA75rA7lrAqlrFLpqA6pqC6lqHqZ6Wad3Q5p3ZaNsPKZqEoh2aWtqZLFoCLFoB7FlAq9lBLBkAa9jAa1pCa1mB65mAqxjAqZnGadiCaZiB6phAqlhAqVgBaVfAaVeAaNkFaNkBqRhD6NiBaFhBaNiBKReAKFfBqBeBJ9eAaJcAp9cBZ1aAJxcBJxZAZxZAJpZAphYBJdYBZdYAplWApZYApRYApVWAZNVApFUApBUAY9VA5JTAZBTAZBRAY9RAIpYKo1SA45UAYtTAY5SAY5RAY1RAY5SAINYKmRkXoZRAl5eWltaVYxQAotPAYpPA4lQAYdOAodOAIdNAIRPAYZNAIVNAYVNAIJPAYJOAYZMAYNLAYJLAYZJAYFKAX9JAX9IAX5IAX1JA31JAn1IAnlKAXtHA3pFAHlEAHdIBHhFAXNFAW5EDXJEAXZDAXVCAXRCAHNCAXNBAXJBAHFAAW5DCXBDAW9CAW5CAWxBBWo/AGY+Cmc9AWQ8Alc0ATIdATAaACQVACIVBBUQCQcGAAEEAQUDAAEBAQEAAAAAAAAAAAAAACH/C05FVFNDQVBFMi4wAwEAAAAh+QQACgAAACwAAAAAQABAAAAI/wD7CRxIsKDBgwgTKlzIsKHDhxAjSpxIsaLFixgzatzIsaPHjyBDihxJsqTJkyhTqlzJsqXLlzBjypxJs6bNmxrpnUGTJg5OgZDetHEDh1CnfvpKxYxmaxqqfovkwKmD55GrQq8qzYOZ6Q4iTs/W0FFDBw+cRaEQ5YlJaYeRRMp0TTpEyJAkdIySaInJh4aKOaKmHRulCdQyWFZeWIn5x0aLI55WkTO2K9k5Ukpk7InpTAmPObJm5SoHrRquWHqq0GTEahs3at6kQRM27tQlmqqInZtWzFu5a+LMpfJFs5mrZ9i0dcNnbVgwTvJo3sPUqpapdvkafSLlKBtNZlloldraNKiMoEh+rqij+Y0Lkj5ixmDBcuUHFHcz+a3rQsREhgUJPNCBDlOwE45M8aSzRRMzXNCAAxKU4IMTBsoEzztUMJGDCBhYAAILPSzRDTIWgvPEEDeU8AEIJKRwgxC83CKTPLwU8QMKIWzAwQYjxMDDF6zM1EcOMIxQgQQUTKBBBydIUc9MiqzgQQQKHEAAAgxA4IEdNNnDhgIFGDCAAAMAEIAZltRUQxAGkcFmTVG4YBAQONjkBRj3FASIFzYFEsYvBO3TCzA/FWrooYgmquiijDbq6KOQRipSQAAh+QQACgAAACwYABgAFQAbAIf26+b06OPx5N7u4t3t39jt3dbr3dbp3NXp2tTm2tTo2dLm2NDm1c7i1Mzh1M7e1dHi083j0crf0crk0Mfdz8bczcbazcXazMTazMPZy8LYycLUx8HUx77Vxr7Uxr7Txr7Sxr3RwrrJwLnkuaPNvrbMv7fMv7XKvLTJvLXHvLXIubDFvrjFu7TEubHFtq7Cta7AtKzAsqzCrqW4sKm3q6S0qaK6pZyxpJ2vo5zEoZO5l36un5irn5mpnJWom5Wml5DHkWu6kHC0imvCfCm3gUivekrKdw2/cg27chPJbgLBbgPIbQLDbQHCbQLBbAHAbAK/bAO7bAG6bAi5bAnAawK/agK9agO7awK6aAK2ZwG2ZgGxaQmvagywaAmwaASzZwOzZgK0ZAKllYyhlY+fk42WkoqVjomgiX6Vh4GUhn+ThoCKh4Ctbimqax+qbBObc1WPd252c22saAWrZgWrYwKqYgKqYgGrYQGoZQelYwaGZU5nZ2NiYl+mYAOlYAOlXwKjXwGjXgKfXgWjXAGiXAKfXAGeYAacXgOeXQadXQOaXQScXAKaWwGVWwSeWgGbWQKdWAKaWgKaWAOYWASXWAWYWAKYWAGXVwKWWhWWWQKTVwKSVwGWVgCUVgKUVQKLWi+QWAOQVAKNUwKRVgGQVgGQUwGNVQGKUwGQVQCQUgGOUgKOUgCOUQGMUQKMUACLUQGKTwGIVheGUgKJUwGJUgGGUAGITwKFTwGETwF5XEpzVD16USaDUAJaVlNRT02OTQGHTgOGTgOGTQGFTgOFTQGDTAGBTQGCSgKASgGASQF9TAJ9SQR7SAJ9RwJ7RgF7RgB5SQF2SAF2RwF4RgF6RQF4RQF3RQJ5RAJ3QwF0RgFyRQJ1QwBwQwJMSEV0QgFyQQFxQgBxQQFvQgFzQABtQABsQAFrQAFrPABqQAFpPgFpPQBnPQFpPABmPAFmPABlPAFmOwBVNAM6NjJJLg4qGAAeGwEODQALBwACAgICAQAAAQAAAAAAAAAAAAAAAAAAAAAI/wD3CUyyZEkYgQgTIpRkS6ATKk2aPMGST2HCP4YU7bNDJwuWKlSsDHIESaGSOnncxAPEqNAfMFCgXJIzR9AxekyYaLGjqkiOfag2hQoE5so1PEGIdAlVzdGdO4W2yXCxzxguWoHofPkV5ASJIYRKnXPFaRU7GTb2gZM265GfOs10mAgRRNKlVM+KTYPVZt4+delIVcrkh5gQFSrYpHLFSti3cLAWCbTn7lanUZX6TCrCxhO1ceO8eavGzBlCa9lEjRK1yAu0SLa+YUsWbBgoe8cQrrhntdYhPFwyvSKGDJi1ZfX00UPYC980ZacaGXqjKFGnVqoo4ZEyJWE3eeaymdQCJQvOmzefMCHKs+XIEIvwyM3iJU2PmjE7xJzJMWJCB4t/yRINN7mg0UMNJVCgAAEMvAAgPMqgU04uZvhwwwsaNNCABg4CqM067ehCBg84wABCBRZ8gAKA+5hDTju7/IADDS1wcAEGGZDAYjricKPHDjXE4AEFEjAQwQUsvsNMLGPEcEIIECyAQAEIOMBiPprMUQMKG0BgwAECCBAAiwJZEkUSEiQwQAAAPAAEmQKlgYQRCpkhApwCscCCQnvEgec+M5ShkC+9/LlGGXz8aVEPKfwZEAAh+QQACgAAACwUABYAHQAdAIfy5+Lv497t39jq29Tn2dLm1s7j1c7g1M7f0MjezcXZzMPZy8PZysPXyMHSxb7PwrrQwbnMv7fJurHHt7DItavFsaS+saq9sqq5sarArKK4rKW3rqe9ppi9pJeupZ6vopytoZrGnoKqn5ipnpe1kHrGfzvJcAPBcgmwdCnIbwLIbALDbQLAbAOsbTa9bgO2bAKmnpqnmpSnmZOemJOfko2XkYuYjIaWiYOOiIKGf3iVc2Odckt2cGx2bWbAawK+awK+agK9awO+aQG8awO7awO7agK8aQK6aAG5agS3awS4aQS4aQO3aQS5aAO4aAO3aAS0agi1aAO1ZwStZwW0ZgOzZQGwZgOtZgmtZgSxZAGwZAOwZAGvZAOuZAOtYwKqagqiZR6oZQesYwKqYwSrYgKpYgKjYgSmYQKmXwCkYASkXgGiXgKgYQWgXwSgXgKeXgOZXQSgXAKdXAGbXAOLaVSSYDqEXD6WXQ95aWOAX0ZkX1qeWwKdWgCbWwKaWwOZWweZWgOZWwGWWwKiWQKbWQKaWAGZWAKXWQKWVwKWVQKUVwKSWAGTVwKRWAKTVgKQWAKPVgeTVQKSVQSRVQKRVAGOVAKOVAGOUwGSUQKOUgCNUgKGWTeMVAKIUwKHUQKLVAGMUwGLUwGKUwGLUQGIUgGHUAGHUACKTwGJTQCHTQGFTgGETwGDTgKCTwGBTgKETQKCTAGDSwKATgJ/TAB9TAKASwJ+SwF5Sw1aV1NYVlSBSgF/SgJ/SAF9SAB7SQF8RwF5SgN4SAB2SAd3RwB6RgF3RgB3RAF2RQB1RgF1RAJ2QwF0RgB0RQBzRQFzRQByRQFzRABxQwBzQABxQAFxQABvRAVwRAFvQgFtQABsQQVoQgVFQ0JsPwBqPgFqPgBpPgFpPgBpPQBoPgBoPQBnPQFmPQFlPQFnPABlOwBkOwBiOwNkOgBfOgE9OTUwIRAPCQMGCAQHBAAFAwAEBAQDAwMCAgABAAAAAAAAAAAAAAAAAAAAAAAAAAAAAAAAAAAAAAAI/wDvCRxIsKBBg5gOKlw4kEoYhhALjnn1ZaAJFSlSrPjBBaI9gfGKiPnTQiAmIT+AsFjhAwgQI+8MDgr0RpOPI1vU/HInMAuZMl62VDHyg0WQIESSEDSDAsUYXpnQ8NE1UI2bQHLiqNHCZMgQo0uidBHYYkKGK4VOURtlTOCeQIcWgZq0RoyVKEyWOGnS5AmVRBUiQECbiK2uevcyqTK1alWorGfEeOEixYkTJU8AcZDQgVAqVKd4/SJ2D9YxaMNsfTpkaE8fN2S8aKGCZIUhEjLAvJJGjVisXXPgxcPGDVy0VpUQKXKkqM+aMlaSJHnBrk0kXtOUKUtWS1s9GOjGgf9bt4yVpUmMLHFSJAfLFChTHjG6BCsVLE2S0kC5N8NDL2jeoNNMK6VYEooqpATCRhhfgPGHIG0A4gglkvgRxgkCYXCPPbMUUw4yvthiyyqiNCIIHHfooMMdO9CxSR0tlBDCQPMMRMkx4kSj4yykNPJIJ67YkcMNNIygAQUJCADPQLm0M5A8w4wTDjjMtMKJJ740cwseN8TggQUOGGAAQfTQU5A76KTDTTCe0GLNNcLgYUMMIFwAAQILRHTMOt44I8s15HxTDR5FinDBAwrkGZEv5yxDiznfpKMOHTJ8oMEEDCCAQEQCydMMMuVg0002OohwaQMFDMDpk898Aw0wechTYIEEDBAgQACrDvTNNbtAQgMGESQwQAAw5DqQObCc4QIFDhwQAADGFuRJFSsMlMMG0RKEQwdLCrRND3pkK1ANGhIUrrj38HBBDugexAMPuLQrbkAAIfkEAAoAAAAsEAAVACYAHQCH6t7X6drT3tHK3c/G3M3F1srC1MW/zsG3yr61zLyxx7qywLKsvrGqwa6kt6yltq2mtKmisaSerqCatJuSqp2XqZ2XspF9ppSIoJSNmZOMnZCKmo2F0HIExHIDkYF4jnx1iYR+hH96g3hyyG8CyG0CxW4Cwm8Dwm0CwmwBwG8FwG0Ev2wDvG0Eum0DwmsCwGsCv2sCvGsDumoDvGkDuWwEuWoEuWoDt2oEuWkDuWgDt2gEtmgCtGoFtGgDrmkLnms9qmkUgG5nfGtmt2cDtWcEtGcDtWYCtGUBs2cDsmUCsGUCsWQCr2cHrmUEr2UBr2QDrWQDrWQBq2UFqGUGr2MBrmIBrWMCqmIDqWECp2ICpWMEqGEBo2EEpWACpF4CpV4Ao18Col4ColwCnGQmoGILml4EoGACnF0Cn1wCoV8BoF0Bn1wBnVwBnFoBmloDmVkEmFkCmVgCllwJlFoBllkCklkDl1gCllgBk1gCjWJEkVkDhFgjaWdiY2NfmFcClVYBlFYCk1YCllMCklUCklQAkVYCkVUDkFUBkFQCjlcCj1UBjlQBj1MDjlICj1IAjlABjFYBjFQBiVQCjVMHjVMBi1MBiFMDi1IAjFEBilEAiFEBiFAAiU8BiU4Bh1EBhVEBhVABhk8AhU8BgU8DhU4Bgk0BgU4BhkwBgkwAgUwBgUwAg0sBgksBgEsCgkoBgEoCf1EZf00BfU0EfkwCfksBfUsBfkoCf0kAfEwBfEsBfEoBWVZVfUcBe0gAe0cBfEYAekcAekYCeEgAd0gAdkcBeEYCdUgFdEYDd0QBdUUBc0UBckUCeUMAdkMBc0IAckMAcEQBcUMBcUMAcEMAcEIAcUEAcEEAb0EAcEABbUMNbUEBbkEAbUAAbEABSUJARkNBaz8Baj8Aaj4AaT8CaT4BaT0AaD0AZj4DaDwAZzwAZjwAZTwBQj47ZTsAZDsBZDsAZDkAYzoBYjkBPjs5HRIGDA8FCAYDAAEAAQAAAAAAAAAAAAAAAAAAAAAAAAAAAAAACP8A8wkcSLCgwYMEvSBcyHChIUQNI0a0UQSixIsGqbxaohCjR16suHBp9IXSQQ4kRowo8eIEjBxLLjoBYkHKH2ec4BGc4YJECZcvULzgCWNFjKM38CEU1OAAEz+EMAUb6OeRCyNJlERRQqXKkRwxVqgwoUJGkSJJ7A3EZ2ISggNiOnVyhayVQGa3rGxRw0YN3zVYlCDZYcMGjiE5cuDQQYRGsQ47yCiwcApbs1WcDNW798tXmDRn6BSidOiOly1YoDSBAgWJkSE6aqTo0KFHlEE/3PCyHOwVIzn5HG25kymTokigNBVi0wZNmDBgumC5YuXJDRYtWmQBM0fRIlakTjX/esNkYBtSpXTV0mXqEx44fuLEAQSIDhw0YLIgQcKDxxQzuURCxx2ABPKGD/QMtAkwzlCzzTbSDOMJJYHAYccglCxyiSKInKHFFFMAMcYPspQxRh4oTlDQGNeIU4467bQTjjCxpFJJhodEIooomuDxRhllyJGHB0JsgIEEDBAgQEEg/FCOONZwg4455EijjC60tFJKLLOAIokeetRhySywBBHEBhRAoMCSTD6QT1So9AKMNe+8I80yySQjDTGxfAJJIpbkoowxeYigQQVqEmBQCAgM9I08joTSyzPqhAOOOOl0I40wn0gyijLdHLOHCBhU4AACAxzkjVIFcaKKKtfAnhhPOuFME8sox4zzjjbZfEBBBAwUgNAu7CBEDyGogCMPrdvgMss45JATTzYeSOCAAQEsVE9D1aBijTnT4EKMO91oM84eFCxgAAAeLZSJOMIss040teyhAQPYttsQNOCAYwsdFzhQALv6MrSOPLWo0UIIEBQs0TmI7JDPN33s4nBDG1yQgEBqXcyQCBnM4/FFIIDQx8gR9cFHsSi3nE9AACH5BAAKAAAALAwAEgArAB8Ah93Nxs7BuMq9tcO4scG0rL2zrLixq7uvqLSmn62inbGgl6ygmqiemK6aj6CTjZuQipSPiZ6JgIJ+ecx2A9FzBMd1A8pxAsdwAcRzA8RwAshuAsZuAsJvBL9wA75uA71uBKB0V5F9dop7dHx4coZyaXhzcMdtAsRtAsNsAsJsAcFsAsFrAr9tBMBsAr9sA79rAb9qArxsArptBLxrA7trAb5qArtqA7pqArxpArhtA7hrArlqA7dqBLhpBLloA7hoA7doBLRrArVqArVoA7NpBbBsDLBoB5NqOrZnArRmAbNmA7JlArFnArFlArBnBbBmAq9lA61mA69kA65kAq9jAaxjAq9iAqthAahlBKljBKZiAaRkCaRiBqhhAqdhAqZgB6ZgAqZgAaVfA6RfAqJfAqRdAqJeAp1jIJ9gBp5hAaBdAZ5dAppdBpxdAqBcCZtcAp1aAJtaA5paAZlaAZlZA5lXAZZZCZdYApVYApdZAZVZAZVYAZZZAIxdF5FZApBYA5FXA3VcR2NeW2FdWpRVA5NWAZNSAZJWApJWAZJVAZFWAZFTAI9WApBVAY1WAo9UAo9TAo5TAo5QAYxUAYtTAYxSAYpSAolUAolSAYtRA4xRAIpRAopRAIdRAItQAYlQAIxOBIhQAIdPAYZQAoZSAYZQAYVQAYNPAYNOAYVOAIJOAIVNAYJMA4FNAYFMAYRLAIFLAYBKAX9SEn5NAn5MAHxMAn1KAXtKAX1IAXtJAHpLAXpJAXhJAnpIAU9MSnxHAHpHAHhHAHZHAXZHAHZGAXRGAnVGAHhFAXdEA3VFAXREAXREAHNFAHNEAHhDAHRCAXJFAnJDAHBDAXJCAG9CAG5CAXFBAG9BAG5BAG5AAG1DC21BAWxBAWxAAGw/AGs/AGo/AWo+AGg/Amk+AGg+AWk9AGg9AGg8AGc9AGc8AGY8AGU8AWQ8AUI+O2Y7AGU7AGQ6AGM6AWM5AEwzEjo3NQUDAAECAAEAAAAAAAAAAAAAAAAAAAAAAAAAAAAAAAAAAAj/APEJHEiwoMGDCOshXMiwIUFCDiNKFEjk0MSLDDl0wcix4AUcZUR17HjhgoVMWQqNvOiBhocvRbp4+rVSopAqTM4IKEPIE66aDSdkECIEVABJr57BcmTP4DwUG06oaKGiBo4aNWbYmBFjBxOFBSdMoKEjB6AGzo7FQpYJrEAKFjTIRZECxQscMF642MuBhQ0gPnwAUcLjQwUMHZ4ECeImzjFcqwixGqhhhYkTKV78UJJkCZUrVJYM6XFjRo8hSH4E7sECA4YcUbRgSZPskChPkLgMhGPoSookTa6AGWNGzRo4YapMmfIECpQpUKRIaaJEhgwesNekmVVqzR07IAZa/3H2akqSLmHUyMmzB5GiPWqKmwEjhoyZMWLEeKnixIkRI0WccUYtbIAQgQIE1WHNL0yEQcYac+ihyCSYYPJIHnTcUYcadOBRSB6HHIJHG1xwgcUWZ4AQQgkPMEAAAAUBc4wncvBRSSidqKKKKaZMoscdkCQixx2KPNKIKKVYwsgceLzhxyh9kDDCAwsQIEhBuFgzhyapoNILMcwYY8wwtFAyiSWVFGJkI5SgYgomjvjxhyOnCMNLICI4UKVBv0wzTyy5NHPNNeOYU8431Nxiyy6toOLKo7bcMsspmDDiyCi8SFMMngwgEABCQSwzjTfmmBOPOe+oAw811VTDjDDJENqzDDbYBLMLLaRcMgs05GyjTQgLFNCUQQOQwEY38pSTTTTR1LpMOOuwg0432HQzTjrpfLONMZNCww458fyKAIwHGSBBAgIlUgcciYTCSSiw5BLMs/Ck844874wDDjO11CIOONyQE4inCzEggQECtdMOQfIssgonnKTiCjDeeHOOO+gIowsv62zTiywOCEAPQxBMdM+6kHwSyzTFCFNMPMps0kABVzY0yMgc2YOONOBsE0kHE/niy0rcsLPKDTUDFdER2qChNEYSFPD0RRAcMPVEJUhQwtVcdy1RQAAh+QQACgAAACwKABEALQAeAIfIvbW5r6m3qaGto5yvmY6jlpCgl5GclpGck43OdwTKdwPHdQOni3i0gEyPh4KKhH6GgXyJeHKCdnDOcAPLcATJbwLIbgLJbQLGcwPDcQPFbwLEbQLCcQO/cAPAbgO8bQOacVKFcWZ3cGrEbAHCbALBawHAbALAawLAawHAagK/bAO/awO9bAO+agK9agK9aQO8bAO8awK8agK7agO7aQK5bAS5agO2awO3agK6aQO5aAO4aAK3aAO0bAO1agO1aAOyaAGtaA+oaRiJa1C2ZwO1ZwS1ZwO1ZgKzZwKzZgO1ZQGxZwGxZgKxZQKvZwSvZQKuZQGuZAKqZg2jZA+pZQGuYwKuYgKrYwKqYgOqYQOpYgKpYQKoYwKoYQGlYQOoYAGmYAKkYAGlXQKgYQShXwShXgGeXgKcXgOgXAGeXQGdXAKdWwKeWwGcWwGbWwGaWwGcWgGbWQKaVwGZZC6XWwqZWQKYWQGXWQGYWAGVVwKTWQKRWQOUVwKTVwGSVwKLXChtXlOXVgCXVQKVVgGUVgKTVgGSVgKSVgGSVQGRVgKRVQKQVgGQUwGOVgOMVgKNVAGNUwKLVQKLUwGIUwGMUgGJUgGLUQGJUQGLUAKHUACGUAGHTwCEUQKFUAGEUAGFTwCETwGLTQKHTgGFTgCETQGETAGBUA+CTwGBTQF+TQR8TQSDTACBTAF9TAKCSwF/SwB+SwF8SwCASgB+SgB9SgB+SAB8SQF4Tx57SwF7SgB6SQB5SQF5SQB4SAB4RwF2SAN2RwF2RwBTT058RgB6RgB6RAB5RgB3RQB4RAJ3QwF1RgF0RgF0RQB0QwByRQJyRABxRAFzQwByQgBvQgBxQABuQwNuQQFuQQBtQQBsQQFuQABtQAFtQABsQAFsQABtPwBsPwBrQAFrPwBsPgBqPgBpPgBpPQBoPgJoPQBnPABmPQBmPABlPAFmOwBlOwBkOwBjOwFkOgBkOQBiOQA+OTVXNQFCNAQsGQAZEQUOCQMEAgABAgABAAAAAAAAAAAAAAAI/wD7CRxIsKDBgwhDIVzIsKHBLA4jSiTopca+iRgbfpBxRVSVjCALWiBhIkMVfCFDYtDAwUONK4P0pcyI4wqQJQ0wMTpm7+JMhwo6PPEBhMCfYq5I2fvZ8F6CDDhw+JgzJxkyMkwbJlgQ48mNHmP4lLKEEiS/eTxswIBhw8gRIkWKfOCgYMGHJVyocNmmiJCQiIJouDBxosWJFStUqPDggUWOHTp08ICRgUOHHlzMmJmEik4IhidGWKigYYPpEi8Ez1gdw8aPJEmMwE5i44aPHkGmzDEFogCAhRMmXKgw0gWNHU++fKkShUkTJk+iYMFyZYsWLU6ySxECIoIIBAIQUv+YQHwEihxIolwBUwYOmy5auoCZX0aNGjd58NgxM2bMmUa3DCFCAeEVdM8LVigxQgpKNNFFGGm0YUchjBySxhoYxrEGIYn0scgllUjSiB53OILLL7dIUEAABokRihxWoHDEFuy50Ucij1RyySN34FHHIHnUoYghflACSiaTLLLHHpwAA80vEQyQT0FKDEOMJVDEsEUYYbxxh4eVdOKJJH7wAYkhihwCCSSSfBILKp5M4kgkrVhDzjkhFEiQHM1QU4sbP5Rhxx2XfOKmLr30EksnoICCiiasvAKLLcw8wwsvuXhyijPsrHMOAw4YVA8xzQwjCxR5ZDIKKsEwM4033HjwM00wwSyjjC/AVHqNOeXAukwrqZwTzja3sHhQKdIkMwwYlkgazTXerPPOPO68U0425aiDjTfYkLNOPO2UI04wuOzCjjWpGCACQvJ88w01ZaxyzDPgpLNOOuCQE00z2ohzza7ouJNOPPPE4w46u+wCDDy+NBDqQqJI0MAZ34xDTjvjSGPMLLRssoksr5Ci6iqryDJLLbbQAo4yy2DTjRcRATAAIH9ZQskggeATCBtowCEHGm3go49MBU2TTTjvICIRAAdAIIAw9MykSjW/TBnRdwdk1Q8CWU/0QABl/WTAAyBBzRQgDqyLkdlat+32QAEBACH5BAAKAAAALAoAEAAsACEAh7mwqa2moa2im6SZk7iQd6GYk5GLhY2GgIiDfoR/e853A8t3BMh2A8hzAs9yA8ZzA8JyBMJxA553YIp8d81wA8twBMpvAcpuA8hwAshuAsVvAsFvA8RtAr9vA71vA75tArxuBLptA7VuGbZtAYpvW8dsAsRsAsNsAsFsAsBsAsBrAsBrAcBqAr9rAr9qAb5sBL5rA7xsBL1rA71qArxpAbtrA7lrAblqA7hsArdrArppBLppAbhpBLZqA7NpA7BqCKprGa1pAXZrZrloArlnAbdoArZnA7ZmA7NoArRmA7NlAbJoArJmA7JmArJmAbBmA65mArFlAbBlA69lAqxnAahlBrFkAa9jAq1jAqxjAqtiAqpjAqhkAadkB6liAqxhAahhAqhgAqddAaJlF6NjB6VgA6VgAaRgAqNfAaFfAqVeAaNeAqFeAqBdAaBcAp5dAp9bAZxdAZpbAZpaAZlaAJtZAplZApdfGJdZAZZZApRbApNZAm1eWZhYAZZYApZXAZdWAZRYAZRXA5RXAZVWA5NXAZNWApJWAZNVAI9XBJFWAYxWApFVAY9VAY5VAZFUAo9UAY5UBo9TAZRQAY1SAYxTAYxSAYxRAIpTAYtSAYpSAYtRAIlTAYhTAolSAYhRAIhPAIlOAIVXIoZQAoZRAYZPAYRPAYFPA4JPAIZOAIROAYBOAYVMAINNAINMAIJNAYFNAYBMAIFKAX1PD31LAXtLAX5KAXtKAH5JAXxJAHtJAXlKAnlIAXhIAXhIAGtOK3dIAFFNS3xHAHpHAHhFAHZHAXdGAXZFAHVGAXRGAXVFAHNGAnNFAXpEAHREAHRCAHNEAHNAAHJFAnJEAHBDAW9DAHBCAG5CAXBBAG5AAG1BAG1AAGxAAWxAAEhGRG8/AGs/AGw+AGs8AGo/AWo/AGo+AGk/AGk+AGk9AGg+AWg9AGc9AWY9AWc8AGY8AGU7AGU6AGQ6AGI6AUsrARkRCAsGAAUGBAMBAAEBAQEAAAAAAAAAAAAAAAAAAAAAAAAAAAj/APUJHEiwoMGDBOfNQ8iwoUOCT548nEhxIJkIWvIJpFexo8ExGGZYUdIhCSCPKPV90IChQYQQXQil9Gjjg40cSERIiHRvZkUPULQsiSKCwB2fFB8o6NADB5IuY2QhfZhPgYINSHCMoCLo0VSHDxY8yLGFSpBFgr4erPcGBAQGDEJAeRNHDzMJanvEiHHDyBAdOnh0eInDR5U7okgImXmvyAwZL16k2PCi75AjSZj08PHjBxAJEwqgxNVCxQwXKlrAgCGjxg0mV6Rk0QJmS5UuZCKJEjKgoooTKVBwOLGCBpEjSpoon7LlDBs2dvzkeWNHz6pifAQ8bGEiA4YMGlC0/9ih5EuYMFmwnC8jx8+gQpo0YdqTaFEvab+0N6zgoIQFCxykUEQUWZgBxxxtoLGGG3W4YQgllDRSCimcNLJIJ9OMM449DTngAAUWmODCDlJ4gUYbeBwCiSFz9GHHH3UYAgkjntACCyqddHIKO+6Ish8FJ5hwAhFWaGHGG3goUokmnzSShx+SCMKIJaW8wss0vkBzyyq7pHNNbwhdIIYYV6BmBRhmtCFHII58YgopnjiSySiqmEKLLshscw444BRDyzLjzMLhQRlMcgkcTuwwRBhmoIFHIJ7AcosvwPgSCy3FIIMMM9SA404853RTSy3UXDOoQSxM0owsgEBhQxRqyO5BByiqxJIMNduAow0z1ZBjTjfnnPNOPPG0o04vyaxjCUNfNPPNMKzMscQUfUDyySvHTEPOOvJ86s473XRTTjbYYHOMLa1ccw030DSkhjDPENMMK1R4wUgrsTiTDTigoqPMMcTkEksqoGzyRzj6eBOMMdLIY4tDlxDzTDSucNEGKMMYs42x1kCjyyau2GLJGj0dZMABDyHyTDji4BJEHMJg0w084QwjCSN9SFJyQwIgMNE3aQxAwA+wtJKLNamEglIwBiTwkDcA6AOAASSo1VEACERtNUUDJLDY1hMdcABHYFPEhzf4lP1QMMGoXVBAACH5BAAKAAAALAoADwApACQAh8m/uLWuqKqjnbGclKadl5+albeLb9B5BJWEfImEf4t6dMx2A8p3BMh2BM9yBMdzA8V0A8BzBIR3b3t0cM5xBMxwA8xvA8lvAspuAshxAsdvAshuA8duAcZuAsNxA8BwA8RuA8BuAr9vA71vArpuAp5wRchtAsZtAsVtBMRtA8RsAsNtAsNsAsJsAsBtA8BsAsBrAr9sA79rA79rAr5rAr9qAr5qAr5qAb1sBLttBrtrBLxrArlsAr1qArpqA7lqArdrBLZsBbhqA7ZqBLVqBaRrNbJrAb5pArtpArloA7hpBLhoArpnAbhlArdoBLdoArdnAbVpArRoArNpArVnA7VnArNnA7NmA7NmAbRlAbJoA7FnAq1pDrBnAbJlAbBmArFkAq9kAa5jAq1jAqdlEqllBatmA6piA6tkAaxiAapiAadjAaliAaViAahhAqdhAqZhAaZgAaVgAadfAqVfA6ddAaNiA6FiA6FgAqBgAqRfAaFfAaFdAaBdAZtgEZxeAZZeEIheNWhgXaJcAaBcAp5cAaBZAp1bAZ1aApxaAZtbAZpbAppaAZtZAZlbAplaAplaAJlZApZbA5ZZBZZZAZdXAZZXApVRAZRWAZRVAJJXAZJWApNVApBXApFVApBVAY5VAJFUAJBUAI5UAoxWAoxUAYpWCIpUAoxTAYlTAYxSAIpSAYxRAYhRAYZRAYlQAItOAodPAYZPAIVQAYRPAIJPAIROAYNOAoNNAIJMAoJMAIFRCYFOAYBNAW1RLFdUUoBKAH5LAX1JAHxLAXxJAHtKAXlJAHpIAXpHAH5GAHpGAXlEAHdGAHZDAHVGAHRGAXVFAXFIGXNFAXFEAXNEAHFEAHFDAHJCAHNAAG9BAG5BAG1BAG5AAG1AAGxBBGxAAG8/AGw9AGs/AWs/AGo/AGo+AGg+AWk9AGg9AGk8AGc+AWc8AGU8AGU7AGQ8A2Q7AEI8NmU6AGM6ABsVDR0QABMLABAJAAwJBgkGAQICAgEAAAAAAAAAAAAAAAAAAAAAAAj/APcJHEiwoMGDnOgdXMiwYcEyShxKnDjwDxAfiQY6WaKPokeBfqZouAFlxoMcRGB99AhISAYNHkbwKELm0UqK+qKEkLKlyxcDBhTelIjnA4ktWqJMKVKk3lCJPBYsCCGEhJE8k55KhHBg6hcjRkhpdVgPAgMIPOC0+UNrLEMgHho0GDEFzx1T8NwWBEPFiRMdH0QACcKlhAK9AofgwKFjSZIkVK4A0VKGTCAJepXowOEiRAwfV66IOfOmjB1HwwRpxZfExgwZMWLs+GFljBs6ijA5ktTpWbSh+HrAqEHcxpIqVraM0bOI0qpWpTqRmuZupTIkM1asYHEjS5o0YdzM/6ETadOoVrNSkTolzptHNSw6gEjR4gUSL3P46IlDCFEhTp58ckswvfDCizqYSSQPDCdscMEFHdBQRRhxHGIJJYdEYkl5o8QCDTXWFNOLOflI1MMGFZhgAgYcvPAEG3wwsskqnzwSiSeorBLMMeOUM84wxYgzUQoOUGABBircgIUbfTzyCSqzlKIJKrb0Ugw03byDzjfDSJOLRGI44MAGJ6jAhBdq9KEIJaC4UksttATjjDTTdNOOPOeQI807E6FAQRNMHAEDFGrIsQclmtRijDPWMFONOeugs043wsSyzTdfOrQBCoYMEsYTL3gRxx6KtEILM9uUIw8672hzjTCvNNSyjz67+CJRPRVcAksjY0Sxgxh8QLIKLs5sw0482WRDjCyYFERAAhJdYEgywGSiRxdSoFGJKrZQo8065VCDiy4ZGTRBAiU2dEQy4CCjiyhsdMFGKLoQ08063ByjSiYNzSNRHctco8wysayBRiGyIGNNPNy8Ig9ig+DCTDPYvLJGG5AIk0063DiF2D72YKJMOuHcEoEZulyDjCgfDzQAK+FEss8ABgBiT8sFISBBALMCIMAEOBcEzy/73PMLAM8GzVAABRSg9ELzJCBIXk8fJMgvRLccEAAh+QQACgAAACwNAA4AIwAnAIe/ta+xqaGwo523m4uzlomgmJGblY/NdwPKdwOginuSjYiThn6FfXjQcwTRcgTPcwTOcgbKdgPJdAPGdQPGcwPEcgSqdUjNcQTNcAPMcAPKbwPJbwLKbgLHcQLHbwLGbgPGbgLEcQPFbgPBbgO/cAO+bwO9bgW+bgK5bwPIbQLHbQLGbQPEbQLFbALDbQPDbQLDbALCbQLBbALAbQPCawHBawLAawK/awK/awG+bAO+awK8awO6bAO7awS5bAK4awO4awG3bAO1awO0bAapax1zbWu/agK9agK7agPAaQS7aAK6agO6aAK6ZwG5agS4aQO3agS5aAK3aAG3ZwK3ZgG2agO2aAO2aAG1aAKzaQK0aAKyaAO2ZwG0ZgOzZwK2ZQGyZgK1ZAKyZAGvaAywaQGxZgGvZgKuZgKxZQOxZQGwZQOuZQWxZAGuZAGtZAKtYwKsZgesZQKqZgGqZAOsYwKrYwKpYwGkZBmoZgGmYwGXZi56Z16wYAKuYAKtYQKqYgKqYAKoYgGpYQKoYQGnYQKlYgGlYQKmYAKjYQGpXwKnXwGlXwGkXwGlXgGjXgKmXAKeYRCgXQKaXAKiXwGiXgGgXwGeXAGcWwGcWgKbWwGfWAGaWQKZWgGZWAKWXxeWWwOYWgKWWQGVWAKTWAGRWAOWVwKVVwKTVwKYVQGTVQGSVgGRVQGSVAGQVACSUgGOVwKMVgKMVQKOUwCNUwKNUwCMUwGMUgGJUgCJUQJ/XkZ6UxyIUgFiXVlZVlRjUkaIUACGUAGFUAGETwGGTQCDTQCCTgCCTQGBTgGATAGFSgGCSgGBSwB/SwF+SQB7SwF7SQF6RAB2Sxt2RwF3RwB1RQB4RAB2RAB1RAB2QwB0RQFyQwBwRAJxQgBuQwRuQgBKRkNzQQBwPwBvQQBtQABuPwBsQQJsQAFsPwBrPwBqPwFqPwBqPgBpPgBoPwJmPQFDQDxoPABmPABmOwBlPABfNwBONh49Ojc1HwAeEQATCwADAgACAQABAAAAAAAAAAAAAAAI/wD7CRxIsKDBfQYTKlxI8AfDhxDzrTGRiiAaLIkgaoRUhUUUMUwkmIAzJp/Gh0TidPDQIQQPHgP0nHzoydAJCliylFlDwMJMhrDO+PBhpooQMnfu/Fz4qkSECCR+oMgiaunCURUOHAhRhgyee1YVSsoK1U4lWGEVBpmAYEKQOYZypTW4xcSICiSEDNHDYO5AQV2mLHli5ccWOJDkztUHpUeOHk+moKkzB9GnaHMJPdmRY8QMJ2reRBL1idS2tH+QcEaSY4kWOpFA4SL1yltYQEyO2LBxxIoXN4dMrQq2a1c5q2iOyKhhRImYN24cRWJ1ChmyY+2Werkhg8ULHGwaLf86hKlTqVnUxDlzN/OeERcivN+4IghTqEubSq1ihk6ds3Qn1QEDCBts4MELT9BBySm1hKIKLsZkMw870pwEBgwtqJDCBhzcAAYjnNgSTCy4PCMNOvOYkx1EYhB4AQccpEBDFH9YosouwhzzjDfqwJPPNt1ApEgMHzTgAAYZrNAEG4xcMkox02TjzTzW9KPLAhr9IUUGFzigQgswUDGIIZnc8sw58ZizjEAFGACRPoT44cEDSnxhRA1THDLJKsKIMw83+Az0TREQ0ROIHxD00UgbXOjAhSOc/EJNPNogtBQ+i2iQhCuYtJEFEGlYQosx46xzTlqaPPCIMqxMIkcWZmSEQsw08jQzFx8rJFONMrIUcoYbqTwzzjV+hcEHNtZA8wsidiByCzfw+NWPIqhgUw04rciRhyXpSduPLK40w004s6AgBDDeCjQMJ8OQM84eAyRQT7oFeNKMMvz0UwAAbqYrwB799PJOPwEAoEC6/fjyjT3fCGRPAH0hbFCbA0tcEC+9zBUQACH5BAAKAAAALBEADgAcACgAh761rbqyrLqxqbalnrehlamfmaWalKyPf5yVj5KBe854BNN0BMx2A8l2BMl0A8d1BL90Ba92PKB7Z3p1b9FzBdByBM9yBc1xBc5wA81vA8txBMxwA8xvA8pvAslvA8dyA8RzA8NzA8VwA8NvAsFwAsBvA79wA61yNb1vA8tuAspuAspuAchuAshtAsduA8ZuAsZtA8ZtAsVuAsVtAcNtAsRsA8NsAsJsAsBtA8FsAsBsAr9sA79sAr5uAr5tBLxuBL1sBLpuA7ptBLpsBqVtKHptaMNrAsJrAsFrA8BrAsBrAcBqA79rAr9qAb5qAr1rA7xrA71qArxqAb1pArtpArlrAblqBLlqAbhrAbhqBLppA7hpBLhpAbdpAbloArhoArdoArdoAblnAbdnArZrBbVqArRrAbZpA7VpA7ZpAbNpArZoArZnA7VnA7JoB7ZmAbVmA7NmArJmArFoAq9pB7BnAa9nArBmBK9mAaVoHK1mBK5nAq1pAaxmAbdlA7VlArJlAbJiArBlA7BkA7BkAa5kBaxlA65jAqxhAatlBKtkAqllAapjA6piAqthAaphAalhAqdlCKdkAahiAaZiAqViAahhAaZhAaVhAaRgAaZfAaVfAaRfAaVdAZ5hB6NiBqFgA6NhAqFeAqNfAaNeAaFfAZ5eAaFdAqFcAaBcAp9cAZ5cAp9aAZpfFJNfJ5FfLZpeCZleA5dbA5peAZtbAZ1aAZlZAZZZAZVZAZ1dAJlZAJhZAJdZAJlYAZhYApdYApZYAZVYApVXAZlWApdVAZVVAZNXApNVAZFVAJBVA5BVAY1VAY1UAY1SAItUAYpSAYdSAYdRAYRRAopQAItOAYZQAIVOAYFOAn9NAV1XVVRST1RRTolMAYVLAIRLAIJMAXxLAINKAIBJAH9IAH1GAXpLAXtJAHlIAXdGAHZEAHJFAUxISHNBAHBCAG1AAGtAAGI5ASwpJyMVABQMAA4MCg4IAA0HAQUCAAIBAAEBAQAAAAAAAAAAAAAAAAAAAAAAAAj/APUJHEhQIL6CCBMq1HfnFMI4YIotVPiJjI9aAlGN+OEm0cSErSKdEdFkhoMSQw64+ojwlSdFIz6MqCKnEIEILAvaixWqTA80dubYIdIqZ0FZe1CYQHEmiBlZRgs6U+OAAYMrZvjYi0oQ2xwHChiQoDSLK0FohkI0eIAl1EqzAkGRAfEARBA6EuAKpIRmy5ASQujA0ptsEJwvWtgM0hNLL6MsQHxAaSNIFFSzo7JA2YEDhxVFq5Zd42qMkZUnO3Y8WWMoWDRpXIENouIkSRIvciD9ioYtar1jcKLUngJIUapez8pFhddoTA4aNKI4IpXK1zflRm2xYaIjyQ0pj4TR/0p2Tp3ReXJyyHjxwgaYScpuWWt3MOclKjFYeOjw4ksmZs6cI49RtIxxRAwtqLDCDP4ZA847CeTEyyE0uLABBxmkcMQbo+CCDgL5sGROJ0zIsEEFFWCgghGAYHKLOttkw5IwhPDghAYULNBCDTe8gQky7xjFySNh/OGBBReIIYYSXozSzDxGWXLJJp0scYEfkMTBRRekVBOVJZOsMgwSFAyjCR5YpMHJN1Ghsoku1NRgATe2lGJHHaqgE1UvrOzCDQwdkDNNLn0osos7UQGjSinhIOEHO+OYIkklzXBlzSiUdBMIK5Au0ock95hFRB7hIEJMOt9EAoEncBUQwTS1HDeTTjkHDFAEXAicIE4zxSAqQAB65TpBPd4IBACwcBkgwTYEFTCAXglkE09BCGgDFz0JZbMOSwEBACH5BAAKAAAALBYADgASACkAh7y1rrqwqbeuprispbSspbSpoaaemKmVjrCRgbmJaJKLhYuEf5GAetB5BMl3BMp1A9F0BNFzBdBzBax8U8d0BMh1A8V0A8VzA8R0A9ByBM9xBM5xBc1yA81xBc5wA8tvA8pwBMhxAspvA8lvA8VyAsJyA8dvAsNvAsJvA8BwBL5vAr1vA65wK8puAsluAsluAcduAsZuBMZuAsZtAsRuA8VtA8NtAsJtA8JsBMJsAcBtA8FsAsBsAr9tBL9sA71tA75sA71sBLtuA7tsArduA7NsA8JrAsFrAsBrAsBqAr9rAr9qA75qAr5qAb9pBL1rArxrA7xrAb1qArxqArxpArtrBLlqBblqA7tpArhpA7drArdqArdpA7toArloA7loAbpmArdoArZrBbZqBLVqA7VpAbBrAbJpA7BpBbFoBbZnA7NnArBnArBnAbVmAbRmArNmA7FmA7BlArBkAqZpHJ1nL69nC65kA6lkBK9nAa9mAa1mAa9lAqpmAqlkAbVjArBjAa5jAq5jAa5iAa1jAa1hAqxjAqliA6liAKphAqhhAaNjCqViBKVjA6ZhA6RiAqZjAadhAaViAaJhAaNfF6dgA6RgAqJfAqFfAqlgAaVfAaRgAaJfAaZgAKJeAqJeAKNdAaFdAKVZAaBjA55hCJtfAqBdAaBdAJ1dA6BcAJxcA5xcAaBbAZ1aAZxaAZtaAZpYAZlWAZtVAZdaBpZZAJhYApRYApdWAZVXAZRWAJBVA5BVAI1XAl1XVFxXVJlUApJSAZBSAY9UAI5UAY5SAY5QAY1SAYxSAYpPAIlPAIdPA4ZRBoZPAYZOAIdNAIVRAn1MBHxKAmpUSYFNAXxLAXpKAXlJAYRLAIFLAIFKAIFJAH5MAIBJAHtHAHlGAHhIAnZIAXZGAHhFAXZFAHRFAnJFAXFEAXFEAG5CAXFBAGxBAU1IR0tHR3FAAHE+AW0+AGxAAGw+AGw9AGc9AGU8AUQ+O0IwGCYWABwQABEKAAMDAwQCAAICAQAAAAAAAAAAAAj/APsJHEiwYEFxlQxyWXPIYD9lYqzsE8hKRwo7lPAZvLcIDQobTUKQ2JIAgTuHdBixORHihBY9LCa8c1hn1CM2Q4awIYNnlsN+y0r10bKiBBchZn4K5NUnxYMGJNqMUtqPmiUVTyvo4UUVXC0yFhxgOFOHKrRGYixQuECEDtVpjM78sFLlRxqqz1A5eqPGixc4mJRuG2YpTpYgParc+Ymu3DFHY6Ag1nHlksNq9HQ54mMFChAfUPg4PEdOl6pKaqQwObJETi2D5749s/VqThcmSJIA8mTQmrVozIgFksLDho0prgyqC/dtnDFDU5Ts2MGDkEFz6sDJs5VIyg0aMmSE/8lnkF45eLbkIDExQsQLGw0LwkM3bdUaIzBcuHgBw81EgtPMs8sqbxwxgwgfeNACFZwUtA41tIDShQwjdKBBBh8YkYlBw+CSCRY3xJCBBBEYkcMX5BG0SyuCYPEEFSB0EAEgX0TxSkHMaKKIIHMUskQMG2RSxhamFNSMIpF4wgosheAgQSx7lLFJQdhogsgmuRQDjBMQ/CJJHjcS5E0onURCTDbX/MEBK5v4IUxB6cCSyifHeKONKDX8MgkkBsVzSyqn4NION7KAUQwRRTgUzCmQoNJON8EM4gwLCTgUzSgT0IFNNsnckswAAfxUDwEI2HKNMbkgIwAAShlwACn2eCXjTD8FsPrTAge4JRA/ChDwkz4KFCDNQPX0wo5SvjBAlUP1/BQQACH5BAAKAAAALBQADwAZACgAh76vp7KqpLGnobShm6edmJyRitB4A62LeY6HgouEfop8doB4dNFzBM5yBct2A8h2A8l1A8hzAsV1A8VyBLRyIc9xBMxxBcxxBMxwBMxvA8pvA8ZxAslvAsZvAshuAsduA8ZuAsNxAsJxBMJwBcRuAr5vBLxuBbtuA5xvPMhtAsVtA8VtAcVsAsRtA8NtA8NtAsNsAsNrA8JsAsFsAsBrAb9sBL9rAsJqA79qA75sA7xsA75rArxrBL5qAr1qAr1qAbxqArlsCbhtAbhrAbpqBLlqAbhqBL9pAr5pArtpArppArhpA7hoA7hoArhoAbVpA7RpArNpBLtnArhnA7ZnA7VnArRnA7NjArJpArFoArJmBK9oBKxpB69mA69lBLFkAbBkAqxjBK9iAqxiAaliA6VkA6llAqpiAadiAqlhAahhAKZhAahfAaZfAaRgA6VfAqZeAaFhBKNgAqNfAaJfAaNdAKFeAKBeA51gB59gAp9eAplhG4xdKHJiV6RcAqBcAJ9aAp1bAZxcAppcAptbAppaAJtZAJlaAZlZAZZZAJlYAZhYAZdXAJVZApRXAo9XAplVAZNVAJBWAo9VAY1WAo5UA49TAI1SAo1SAI9RAo5OAYtVBoxSAYpSA4xRAIpQAYxOAIlTB4ZQAolPAIZPAoVPAoZOAIROAYJOAoFOAYRNAIFNA4RMAINKAH9LAH5MAX5KAIFJAHlWL3tLAVpUUX1KAHtKAHlKAX1JAXtJAnpJAXlJAXhJAXhIAXxHAHpGAHlHAHpFAXhFAHVHAnZGAHVFAXRHBXNEAHFEAXFEAHNCAXFBAHBEAXBDAG5DAnBCAG9CAG1CBG9BAHBAAG1AAWxBAWxAAGtAAERBP20/AGo/AWo/AGk+AWk9AGc9AW08AWc8AGc7AGY8AGU8AGQ8AGQ7AGQ6AGM6AEQ7MT88OWE4AF43AFMwAUMnADAdACkXAB8RABwRARMSEQ0KBwoGAAgGBAICAQEAAAAAAAAAAAAAAAAAAAAAAAAAAAAAAAAAAAj/APEJHIgP0JIwBBMqvKSFYJ0JQfYoU0gRH6koJoiM+dIhRBAAmSoqjIeHy5MNHTYM8XKAkEiFe+KYeRIiQhcse14q5IMnDhooJ6AIcacz4aZHZrKEcAABi72iCVPlyTLBgYEQUBMO6ySnBAQHEqJlHWis1KAtEh48MDJW4AJKZbacEDGiBNuxfaSW6aKFCpO/Y2XNetSIEBkwVozkqLEEqjNes1ZJEkTmiY4ci3kUtXYLGbVTjtx4sUKExw4bQHRq2/VM3a5Ogu6Q0aLERw8kSV5yS3bt3LBVlRzFHjPFBw0ZNER6Y0bO9ytUoiZdUgTGx4wXMnZURHYL2vJZunLh/8J16U0V6y5AzKDYjhkxa9d67eqVbRqpQ2mSvADBgcMKitWEcsw4zSTTyznh5OIIHU3A8IEHKaSQXEKlGHPKNuNUk4w45hBDiR5g4BADCx9kkIETCslSjCvXiLNNNdvYIkkhbyjRwgcYVFCBCvckVIAC99QCTjnExJgIIn5QQYIKF1TAABI/EDQPLdjg884v5rzSjStHwlEFCT60cEEDMRQhEj3SwPJMMZMgwgYYTlRxBQ4qaDBEOyKx48sx1HCyyBlsnNEGIGxMYYEU67wEDzDZABPIGWvMwYgnjPhxAwP06DSKNNkUkoYadFiiSiyaXKFBjzodA04kddRhxyi+uHoSCyRHfFOUKt14Ykggc3gijDCxgCJGMFApY4oif6xBiDDH/NIKHPNAtc4vhdDBRRycLMOKJZgEkJU9naAwwAF6gNMKJpYA0NYCAghAgZWfJCBAW/YgQMAB+KRDizxt1TNPAAgMIFA6beGDDS34JFBAwQTxWw86DBcVEAAh+QQACgAAACwRAA8AIgAnAIe6sauzqKKooJqplo+nj4KZkYvOdwOxdzuigW+OhX5/eXTQcgPKdQPNcQXHdQTGdQPEcwTCcQPNcATLcAPKbwTJbwLJbgLHcALIbgTIbgLGbgLIbQLEbwLEbQLDbQO/bwO/bQO8bgS+bQOXbjfEbAPCbALBbALBawLAbALAawK/bAO+bAO/awK+awK/agK/aQK9bAO8bAS6awO8aQK6agO6aAO4bAS5agW2agu4aQO1aQK5aAO3aAO1aAS1ZwK0awOzaAOvaAOgaSyZaDN9bGO7ZgO1ZgK0ZgO0ZQKzZgGxZAKtZAOtYgKsZQmsZQKrYgKoZQOkYgSiYgSqYQGoYQGnYQKkYQKhYQSqXwGnYAGlYAKkXwGiXwKjXgGjXQKhXgKgXQGiXAGgWAGeYAKeXwKbXgKfXQGeXAGcXQSfWwKdWwKcWwObWwGZWwGdWgGaWgOdWAGZWACYWQKWYBaXWgKXWQKUWQKXWACVWACUWAGVVwGBZleSVwOSWAKTVwBwYFVdWFVcWFOaVgOVVgGTVQGQVgGPVQKPUwOPUQCNVAKOUgCNUgGOUQGMUwKLUgKLUgCKUwCLUQGKUACIUAGJTgCDUAiFTwKGUAGEUAGHUACHTwCEUACETwCGTgCETgGBTQKBTQGBTQCETACESwCCTACDSgCBSgCATQN/TAF+TQJ/SwF9SwN8SwF9SgF7SgN6SgB+SQB8SAF8SAB9RwB6SQF7SAB4USp5SQF4SQF3SQN4SAB3SAJ3RwN3RwF2SAR4RgB3RQB2RgB1RgF1RQB0RgBzRQFzRABxRAB2QwBzQgBxQwByQgFxQQBwQwBwQQBvQwFvQwBvQgFvQgBtQwJuQgBtQgFuQQFtQQBtQABsQQBrQQBrQAFrQABKRUJuPwBrPwBrPgBqPgBpPwFpPgBpPQBnPQBmPQBnPABmPABlPABmOwBmOgBkOwBjOQBiOQBXMwIzIw8pFwAcGxoXDQAOCAAEAgACAQABAAAAAAAAAAAAAAAAAAAAAAAAAAAAAAAAAAAI/wDxCRzo5sjAgwgTKkwoSgaOQwsjLkwzT+AgIxAOCJLI8eAbGyGYKOHw4YCQjihPRfkh44IGEU3QoOw4ZM4VJzoiyPgxE+WQMWSqAAlho2dHV3agBIlgwIBRjnwujXHygYGBCE8j0sGFqUwQCA4eZF1obxoqO1ZCOHAA4d3YhLY+lVEa4sMNHjl23HsrkEiuPleiQHmi5IiRIzREgNibdY84Vono5JHzpcqSHjFgwFihoqJRW9dwpUr16VOfOl+WAOFxIzOLFPF6+sqGC1ezaNY8OarDRYvlIzVmzHBxgh7KSo91SfvmTtgqR3z0rFFzxouSGShMdDDRkQA1VsWulf9z94zXJ0uWGhlatMjNkxwuUHjQoEHin164splLh27bLlqqoLJKK7HEEgkbWfjQggYVVDCBZwqBIswx1EhjTTnPsHJLL70k44wzvRRCBxc+nJCBBRtYkMFChFQjzDDDEGPOONIQs0sv57SzDjigJNLGFj64QAIFEixQwkLFbGMJLLR8w04610BzDH/rsKMLJHWwsQUPHWAwwQISLLTINiPoIQkt2YyDDjfamFPNNeQcw4kfd4SBBQsldNBAAxQs5Msy3oRRCCrKhPMkNL280gw1nOBxhxtTGLECEjuQgAEJCiVQgED3DKLJL+G0owwqm+iizjCF5KHGFEwkkUUYTNTQQAGEAsmTABEHxUOILOAEgwokoShDTi2PyDGFFl0MggghYhSxQEKBKERPJ8Bookkmw2CDDSxyUFGFGZJ0YkopcLxglDuIHFiLNNgwo0cWVIAhyizjUoKFPU/FEwcpxjRDjiRgnHEGKcj8IssocLx1jyrBqNNJHGdYsQgyycwiCiN82UMKOA93AcUVk3gDiyL18CWQJsDcQQYBCEjRSjLImDwQPEMkEEAAB/whj8wICVCAAAOcxDNCAShQAAJDC9RNtPgAQEQ3SSsNiNJRV51VQAAh+QQACgAAACwNAA8AKQAlAIfJurG6rqeypqCwpJ6jm5arl4+el4+ZkIuKgXyFf3nMdwTGdQPQcgTHcgOtdTrEcgSfdk18dnLNcAPIbwXHcALIbgLHbgLGbgLGbgHGbQTDcALAcAO/cATDbQK/bQS9bQOlcDvGbALCbAPCbALAawK/bAS/awO/awK9awO+agK8agO7awS5bAS6agO3age2agO6aQG4aAO3aAO3ZwK2aQO0age1agKzaAK0ZwK0ZgKyZQOxZQKzZAKxZAKvZwOsZgOsZASIaVChZQ95ZFiuYwGtYwKsYwSsYQKqYwSpYwOpYgKqYQGmYwOkYwOnYQGmYQKpYAKmXwGkYAKkXwGlXQClWgKjYAGhYQKjXwKfYQSdYQicXwiiXgGjXQGiXQGhXgGgXgOfXQGiXAGeXAGeWwGdXAKdWgGcXAKYXQyaWgKZWgKYWgOVWgWbWQKXWQKVWQKaWAGXWAOVWAOWWACWVgGUVwGSVwGTVQGPVgGPVgCQVQGOVQKQUwCOVAGNUwGMVAGMUwGKUwJ/ViFeWlZaVlOPUQKLUgKLUQGKUQGJTwCIUQGGUAOHTwCGTQCCUQ2ETwKATgKETgGATgGFTQCDTQCATQCGSwCCSwCBTAGBSwKBSgCATAKASQB/TAN/SgB+TAB+SwB9SwJ+SgF9SAB7SwF7SgJ6SgF6SgB5SgF7SQB5SQN5SQF4SQJ7SAB6SAB5SAF3SAF7RgB4RgB3RwF3RgB3RQF1SAh2RwF1RwF2RwB2RgB1RgJ1RgB2RQB0RwR0RgF0RgB0RQByRQBSSEF0QwBzQgByRAFyQgBxRABxQwBxQgBwRAFwQgBwQABvRANvQwBuQwFvQgBuQgBuQQBuQABvPwFtQQFrQQRtQgBtQQBsQQBsQABrQABsPwBrPwBqPwFpPwBvPgFrPgBrPQFqPgBpPgFpPgBoPgBoPABnPgBnPQBmPQBmPABlPABkPABmOwBkOwBjOwBjOgBjOQBhOQBhOABJMBIkGQUVDgYJBwUEAgABAAAAAAAAAAAAAAAAAAAI/wD5CRxIsKDBgwgTCuxxRKHDhwWrragBsSLCffzqRWngIJbFjwOxsKDCg4KLOCBBbgLCQgMGDeNSVsSXScuWJDc+NJBZEQ0xCGiyNEliwwZPiIXCCcrC5McGBUcftsnka0/Tp1CjKgTzSNKeKzceLFigNWGBPbgk6QHjY+wDDmUN4nPgTJKdKz9scPiAQ0aMGDhWePBQVsAQW3uEMgGCxEgPHTporPiAAkUJEyd4Gr5GKhCbNWvkuBkTRkoSHy9osGihIoXrEfk+btZmCtKiRZA2BdLzpoyUJ0+UGNmRY0YKEh1GdMAHMYAgaOtwwWJlLNk3Wp0W7QGt5kyaOHTIFP+RoQL5hQoWHA5z9AzcrlW3mE2jV+5XqeyKHhkyFCnSoTpfQJHDCedVEIIECkFQijSwmCJMMt7MI88zu6jSSSgXikLMMbVggscbYSgBA3ISSMBAQgMEsoowuEhzjjzmwKPOMquYssosryiDzo7dhPKHHWdIQQSBFjBw4kEICPGINaycww03xmRDjzbR5PILLLd8U089EgLzCSBuqCHGESOkIMIEE1RxEACAqIMKNlHqEow58ZizjTTPLMMNOOqcYw47rygyxxxmRMEDDEf0wEMGPBz0hDHLWCOKK62kEs058LhzjjbcpCMMMrzk0g43ruQxhxtdFEEEHHcUUkUGCCH7Yo0vIPjRByOg8BINN+zA0w44p5BSSSXBkPNOK33YMUUUXGiSyCWWVGHPQUv8ss0jSHhhxh2AUCKLjvN040olgeSRSjLmUEMLI144EUYjscTCSSH6IASBIATd08UdhzQiizjFUDKJoJjQMs024shCxhJleEKMLLFYkpABByCETxSIjKLJJHxMUYcnxzDTDTV6eGHFJM0cc8kdCA0SASEP3RMFHXDgwIcovEzzziFkOKGGJ+NMolBsIOnTRiW9vIPIGA44cAUgcR2kDB3FcKKFAAI4EHVC+ABwAAEDEBDE1gkBQEACCBRAtkKEIDDM2gUNM8hARMNt9913BwQAIfkEAAoAAAAsCgAQACwAIQCH0se/yr+5yLu0x7iwt62nu6qis6misqehsqSeq56ZpJyWo5OJs4tmqX1QqXlOpHU+m4+JmYmCkHpsenVxz3IFynACx3ADy24DyG4DyG0CxXIDw3MDxW4Dw20CwXAEvnAEv20DwWwCwGwCvWwEumwDuG0JlW1AwWsCv2sCvmoCvWsDvWoCumsEuWoDumkCuWgDuGgDtmgDuGcCtmcDtmcAtGkDtWgEtWcCtGYDtGUCsWgEr2YErGYEsGUCsWQCr2QCrWMBp2ojqmULoWQUqmQDpWQDpmMDrGICqmIDqWIDqGEBqV8Ap14ApmECo2ECpWADpF8BoGAEol8Fn18Dol4EoF0Cn14CnF0CmV0CmF8JolwBoFwBn1wBpFkCoFsCnFsCnFoAm1kAmloDmVoCmFsAmlgBmFgBmVcCl1kClVkCllgClVgDlVgClVgBklgBllcAlVcBlFcBklYBkFUCkFUAk1MBjlcCjFQCjVMAi1MBjlIBjVEBjFIBi1EBiVICh1IBh1EBZlY/jE8BilABiE4Bhk8Bh04BhE8DhU4BhE4BhEwAfE8Vf00CgU0Bf0wBgk4Agk0AgE0Ag0sAgUsAgEsBfksDfksCfksBfkoBfUsCfUoAfEoAe0oBgEgAfkgBfUkAfEkBe0cBekoBekkBeUkBeEkBeEkAekgAeUgBeUgAeEgAd0gBdkgBekcAekYAeEcAd0cBd0YAdkcCeEUBdkUBdkUAdUwYdUYBdEYBc0YBdUUAdEUAdUQAc0UBckUCcUQCZUkrckQAcEQAdUMAdEIAc0MAcUMAcEMAcEIAb0MBb0MAb0IBb0IAc0EBcEABb0ACbkMBbkIAbUIBbUEAbkAAbUAAbT8AbEEAbEABa0ABakEBaz8Aaj8Baj8AaT8AWEAebj4Aaz4Aaj0AaT4AaT0AaD4AaD0AaDwAZz4AZz0AZj0AZjwAZTwAZjsAZDsAZDoAYzoAYzkAYTkAYjcAPS0OFw4EDQ0MCQUBBAIBAQMAAgEAAAAAAAAAAAAAAAAAAAAACP8A9wkcSLCgwYMIExaso7Chw4T3WlB5SJGinhFBKmpM6KpLDg0bQxKsF2ZHiw4iReojRmiNDhIWFKWkmG8fJUJlnhUh8nLmQ3qHiM3aY2vIFCok9Pl0KEWQM08Osuz0QGFpQyFnCBkaYgeLkxoaPFhVWGLLGDS5Mrn5ukGDBhJeYLyA0UIFiDP3ljIIcgVaMkdpmrT44IEFjhkzcMRoMWKEiscoUKQIgbIivQIPGEkDhKWIER47iCRBcoT0jhoxatiIIaP1ChEhQnCo0MzhAAQSgInqGiXKlDVr2IwR86XKkyZUnlCp8mXLkx4zXJywgCHDhXoJBSCIACwZq0Z/7Nz/AWTJUiE/eeagEbNGDZo5fQbpUVM8yQ0UJzBQqHowwIEItmhzDSuZMCLLLciMswwqnFRyiB+HJHIIJq3MQgsod8iRhhVNAJECBxzoZxA+BACYjDfSkEJKL8ZUI487y+AiCyiNZGIJKsOAE84528DySB5tjMEFEy7ckIMPGBg0QAS/MJNNN6Wssgsz28jzjjm/3DKKirKgIs4888QDzzqpREKHGWZo4YMPZejRRWUDJbBAJZzsUo4opUzjjTvpVNlNMsGogsstuHiTTjrldJPoK5C0EQcYSnAxSCeddGGQACYAkgg3veCSDjrjHBPMNuyoYw4z0igTjTfQCHOLKrd0/7NOOKDgIYcSb0gySSd7GBQAAlnwscovpZQTzDG7qMLMOOy4w6c36JRjCieR/PFILMiYQ00tk0ARhyvDfDLPQQA0AIcj2ZSCzSuxfKJJKsdc042s8MBTzSaPAOJGHproMk015tQCBheuICNTQj/gMU02vvjBBx58FNIIJafUUkw47fByCSSJkEEGIp8Ygww11sCRxBzkENOQEpdks8gDVnBxRhlvyKFHH4iEgkwskiiiBxhAbFGIJrAYI84bDzzwkCB8/GLMQfjgU88PRyzBBBNaMAEFDTmUYUgr4qhxwAEMPFTABD41UIIUC0CgAAQPGQC3VQEQoADaDQUyQSBjDRT0zUP2WBUI331XZA8+hSeuuEIBAQAh+QQACgAAACwJABEALQAfAIfi0crXycDUx8HNwrvNv7fJvLTDtq7Ds6u8rae5q6SyqKGzoZiuopuznZOlnJaqkYOfk4zJeRXFcwPOcgTFcgPBcgPCcQXMcATHbgPIbQLFbgLCcALCbQKqinebi4O0bxqPiYOIgn2MclnCbALAbALAawK/bAO/bAK/awK+awG8bAO/agO8aQK7agO6aQK6aAK4aAO1aQO1ZwO0ZwO0ZgOyaAWyaQKyZwSvZwOyZgOyZQKxZAKvZAKrZwyuZQKpZwioZAaNZy6vYgGsYwKqYgGnYgKnYQKnYAOkYgmkYgOkYAWiYASjYQKrXwGmXwGkXgGiXgOhWgKfXwKgXgOeXgKfXQOaXw6eWgGcWwKaWgKYWwKYWgGXWgGdWQGaWAOZWQKWWwaUWQKVWAOWWACRWASTVwKUVgGSVgGRVgGTVQKTVACSVAGQVQGQVAKRVACUUgONVxCOVQKOVwGOVQGPVAKNUwGNUgKKUwKGUgJrXVN1UjJeW1WOUAGMUQGLUAGIUQOJTwGGTwOFUAGITgKGTgCFTQCGSwGCTgOETgCCTgGDTQCBTQOBTQCETAGBTACBSgB+ThCATQJ8TAJ+TAF9SwJ8SwOATQB/TAB/SwCASQB+SQJ9SgF+SAF8SgF8SQB8SAF4SQt4SAN4SAJ7SgF6SgF6SQF5SQF4SQF5SAF3SAF7SgB5SAB6RwF4RwB5RQF3RwB3RQB2SAF2RwF1RwB2RgB0RgF0RgB2RQB0RQFxRQdyRQFyRQBmSiZMSER3RAFzQwBzQQByRAFyRAByQgBxRAFxRABxQwBxQgBxQQBwQwFwQwBvQwFwQgBvQgFvQgBwQQBvQQBwQABtQwJuQgFuQgBtQgFsQgRtQQBsQQBrQQJuQABtQABsQAFrQAFrQABqQAFuPwFqPwFqPwBqPQBpPwFpPgBoPgBnPgFnPQBmPQBnPABmPAFmPABlPABCPjtmOwBkOwBkOgBjOwBjOgBiOQBaOAJJKgMfHBoMCggDAgABAAAAAAAAAAAAAAAAAAAAAAAI/wD3CRxIsKDBgwgTKlzIsCFBHQ4jRvRiT6JFhVcoXNxYkNATIW84ilTjZA0Ve75EWmxEyJeXH0tUbFDp0FWjR3yQNABTxAbNhfkkaeJkqFGVAnCY4ND4E2G9UK5cRQNn5wCkJEslHNQ3SIaJryhKrCjBgcOIKAxVKEkzyBWdD5XkMLEhQUKbHDBcyIBBA4aKvy0Cu3jB4gQKEhowZLiA9mANL2oAidFSzdQcKjgqWFAxYwYNHTx43IgxA4ePIU6gQDkyxIcOFyVGYJhw4WCEHkuAUNE1jZKWIqZrDDly5EkVLFOYJJkyBUuZPn78nAnDhQoTIjI4sFhx8ECDDkAEZf/DoyVJkiVLtIiJg4YNHTRispShcwfRp1u/UE26M2fLlyg7RMGHEAYBQEACC4jACyiHxEEGGXHccYgotGxCCSWLBBJIJJu0Es0475TjDC2CoOGfE2pkYohB7gyAAAMe6GHNMqdMIokksuDSzTrcBCNLKJVEgkop0NBDTzzwsMPNK5ugcQYWgDySyUEEvBijNeZgk0osqTRjzDj0zNONLqKQgoopshQDDzriMLNLOei8c8smbjwCTCEHBXCAAjFKQ006tZiSijDMlDMPPPSEk4wxaRazjDfFzHKJJZ4Mo40627DSSDTIHITPgR5AUo0z5RAzyinUkDOPONeYQw876Fz/8w0158yiiiV3yIFIK8dcAw0yUhyTEAAHPADJK6UEQ84ou5jTjjjF0KIMOu3AIw885bSzCiOMoMFFHZjgIswzz3RghUIBICDCIYIwkowus3ijjDK0rGKLM95g40058WhjCSJ+jEGEE24oosotwyjggEK9CMCACHHUMcoypHjzSiuYOHIJJp14wgos2vySSR+AdMFDDC7MYEQWcIAAAgQKhSDAAl6Ykcg5tQQTSB9pmGEGG230sUYaa1whBD4E7dHLPvcMYIAD9zRkgRFs1PJNEEFU4UQTQvCRT1MHhZACFJ1gsw5HvexhkT4h5PBHLiLtgfRFAzjwNdgRFRAC3hHtC5FHHnxHFHXg+wQEACH5BAAKAAAALAkAEwArAB4Ah/Pn4e3f2erb1OPUzeDQyd3NxdrNxdbHv9HDu8/Aucm8tcW7s8e4sb+zrLutprWtp7yspdGljLimn7Smn7WYiK+im6uknayemaKRiJaQicOAOLN6Vah8W5x5VZSJg46OhZWEfMlvA8VyA8ZuAsJyBMJsAr5xCb5uBb1tA71sBMNrAr5rA75qAr5qAb1qAr1pAbtrA7xpArlqA7hpA7hoA7VpBLZnA7VmA7RmAbNnBLNmAq5yLrBpBLBnBK5mA6VxP6hoF5RwUHFvabJlBK9kAq5lAq5iAaxjAqpjBqxiAahkA6ZlA6hjA6RjBKlhAqpgAqdgA6ZgAqRhAKNgBKRgAaNeAqNdAaFgBKJfA59fAqFeAp9eCKFdAZ9dA6JcAZ9cAp9bAp5bBJ1cApxaAZhcA5paA5haAZpZAplZApdZApNZApdWAZVXA5RXAplUAZRVAZJWAZFVAZFUAZBWAo5XAY9VAY5VAY9UAo9UAI5UAo1UAo1UAI5TAYpUA4pUAGhcUFlXVHdTM5FSA41RAYtQAIpQAopPA4hQAYZRBIVPAIZOAYVOAYZNAYJRDoNPAoROA4NPAIBOAYJNAYFNAoBNAn5NAYVMAYJMAIFLAIBMAoBLAX9MA35MA39MAH5LAYFKAX5KAH9IAXdMGXtKAn1LAXxLAXtKAXpKAXpJAXlKAXdJAXxLAHtHAXhIAnhHAHdIAHdHAHtGAXlFAHdGAHVHBnZHAXVHAXVGAnVGAXZHAHVFAHRGAXNFAFFOS3dEAHRDAXJEAXJEAHJDAHFEAHFDAHBDAXBDAHNCAXFBAHBCAHFAAW9DAm9CAG5CAW5CAG5BAG9AAG1CAm1CAW1BAWxBAGtCAW1AAGtAAWtAAGs/AGpAAWo/AWo/AGk/AGhCBUZCP0M/PGw+AGo+AWs9AGk+AGg+AGc9AGY9AWY9AGc8AGY8AGU9AGU7AGQ6AGM6AGI6AGI5AGA4AGE3ABsaGAwJAQQEAwMCAAEBAAEAAAAAAAAAAAAAAAAAAAAAAAAAAAAAAAj/APMJHEiwoMGDCBMqXMiwoY2GECMqsxexokJWRyha3EjwkBUjI/IdE8TRIiEvSaKcabKpZERohN6EsrRlx5V7EOm9KFFiRIif8RayQibr0xogCoAcSSgDxYoUK1jEiOGiKgsVKn4ivKeJkRxLcpByUIKP4CAaNmTAQAFDxowcRKqAqaLlCxUnSVg8MViPzKNjssKFQiOBwxIY+X7NmIH2xhAdPXr4iFKlDJ9Di/TUqWMGjRccbgp6Q2TIkCVlseRMaUQHCwoSJ2rkGHLECRYtWrCIYaNH0y9hyXhF2mMmTZRPBk0gCbNmkKI2ZnbVsqOEB48eU8SUSdPmzpw5ehxl//I1rl07dsRQQaojBpNBeiag1O0yJYsqaX6aLGlyhUyeR5JIsgknm1BCCirhyNMON9iwQ046s2AS1EERbPADBzswgcgyfahBBhlq9DHJLeIUw8strYxyCizclENNLqu4Igw05CCTkAADJACBBBQEEQgtlUQSCSWoAPPMO+9sAwwupuDCCzXD5AKJH4m4kkwy4yg0wAEMSFABCIFsQ80up6hSSzLWwMMOPOU0Yw0zxqyzSid7qIGHJrroAg0FCRmAAAMPVOBBINVQ080uqbRCzDPuZCPOO+uoY043z3SSCBxScIGHIpfI40FCBRywgAOCBhKNM900Y8or2KjDTTDBcMmDjjnmwDPLJYSMgcMMRJiwwAOfgppAAxNgIIo0wTiDTim8oMPNMLDAQowxxggTTiyErDEPOBUJUAADEGDQSCullFLMNLY4I8wsoHjSCSSLMFLIGy4JQECXQTyCyCGknHNKMaAsMkgccLzhBULffFMPRAEQkMAFHcyRRyLX2MLJHWOAsZdLBwFAgAIVTIHGHbho0wEVHDMUQAQiFMHFJNekzJAQHwBCTwtOSCJzQxkIpMEGIOwc0TwN9Cx0Q39YsPDRC80DSC9CBwQAIfkEAAoAAAAsCwAVACYAHQCH9Ojk7eHb7uDZ697X6drS6NjS59fP6dXN4tXO4dDI3tDI3s7G2s3F28zF2MvC2MrD2MnB1sbA0sW91MK6zcC2zL+4ysG9yb63yr21yLqyzLmwx7evxrWsvrWtwLGou7Cow6yivKqi0KaIt6ehtKWesaSeq56XsJmNt45zxIdOvYJMq3tSoZiQlI2Gm4RzoXtfjXdti3dvgHp2yW8CwHEIx24CxG0Cv2wDvGwEqm8yrm4ctm4Om3FQhm9kc3JtwGsCvmsCvGsEvWoCu2oDumoDumkDuGkEuWgCuGgDt2cBtmgEtmcDtGYCs2QCqmcZqGgMrWcKqGcGr2gEsGYErmUEsmYDsWUArWUDsGQCrWMCrmICqGMFq2EBpmAEpmACpGADoGAEpV8BoV8FpV4AoF0Enl0DnF4EolwCoVsBoFwBn1wDnFwDnFwBnVoCm10Am1sCmVsCmloCmFkGmVkDmlkBlVoCk1sKl1gCk1gBhVsmX15bmFYClFYBk1cCklYCj1cCkFUCj1UBklQBkFQAkFMBjlYDjVQCjFMBjVIBi1IBilQKilIDiFIBhVILjVEBilEBilAAiFAAh1EChVABhFABg1AAiU0Bhk0AhE8ChE4DhE4Ag00BhEwBg0oCgk0BgE0DgE0CgEwAf00AgksBgUoBf0oCfk0BfksCfEsDfEoCfEoAgEkBfkkBfUkAfEkAe0sCe0oBekoCekoBekoAeUkBeUgAekcCeEgBdkoTd0gBWFdSdkcEdkcBdkcAdUcBekYBeEUCd0YAdkYAdUYCdUYAdUUAdEUBd0QAdUIAdEMCdUEBcUUGckYBcUQBcUMBcUMAcEMAckEAcEIAb0QFb0MAbkIAbUIBbUIAb0EBbUEBbUEAbEEBbkAAbEAAakADbT8Aaj8Aaj4AaT8AaT4AaT0AaD4AaD0BaDwAZz4AZj0AZTwAZTsAQj08ZDoAZTkAYjkATi0BNDEuOSAAKRgBERQKFw0AEgoCCgcCBwQABAIAAgIAAQAAAAAAAAAAAAAAAAAACP8A+QkcSLCgwYMIEypcyFCgHywNIybU0SeLxIsEV0BBVOVewTkK8dmoMYPkQh4aRrXhksSGlipgoswzaOkHECE2iyA5kqRJwnoUgvEZkyUMJzlPniQjeONGkCBDlmQ5k+YNHDZnFIY4BknQJWR7coBAUY+fvCJEguDAYWRKlzmPNkk6FOhOmoT6frU6RspSGxQYPOxDonNJlSpTrnxZ48dVtGrGVEVClNAeq1WECK0SlIMDCCJGlCxhksVLmTVvAmWK5m6dum7kgiVsVspWsl/fON3JsQIeDSNUupSJA2jRIkmnzrXT1usZuHD7DuqzlwkYqU7KSPFZgwqPFClf5hj/yuQpFSpQt8p1m1UpVDFpCZ9AIdNmjyNEceBYo7Tli5lCoGCTTTPDpOKLOL5Q8kckrgiT0A47bKHGhGJsAQYzktRRRyGfDGPOO+ZY80w16IhyiBt0QBKJQiKkoIMOPKywwhO44GKKKa/E4sw47bSjDjjlSKPJIFYQocgFCrUgwAETbDDCCCf04M02zNBCyzPdjMNNOeqo04ol70iEgAELUOABCSzAsIw16PDCSzXpQEOMNt1ws4o8A3m0EAMKQFDBByWYEMM01YCzjSzXjENMLcK0wglB8dDD0AMOSIDBByOYAMM01DSDjiziQFOLJ4/chRE/DSTQgAQZAOrCLrXAfpILONe4kggf+Jw6EAFkSrBBCC40ggkjk2xDzSFo6EpQAAIUkEAEGZDwgh2AJGJMHvkoW5AFAQxQwAMVlOBEHHfAoi1CAAAwAAIR0HBFGLyce1AHMgw0wxBh6CnvQD604MNA9qhwwr4GZRAPQRe0QLBCenxQ78II6aIHO7oGBAAh+QQACgAAACwPABcAHwAcAIf57un06OPx5N3v4tzs39nr3tfr29Tp29Tn2dLn19Dl1c3j1c/l1Mzj1M3j1Mzi1M3g0crizMPdzsfczcTbzsbby8PZy8PYysTXycHWyMDXxr/Txr3Sw7vQw7vOw73RwbjOwbfNwLjbva3LvrTKurTJvLXIvbXIubDHvbXGuLDGtrDHta3GsqbFu7TBta7Cs6u/sqrBrqW9rKS7r6jdq5TImoW7qqO/o5i3q6S2qqO3qKK4opixpp+ypZ6woZqpnZWonJWjmZKmlIyik4y3kHe2jXPCcAi4cSXKbgLFbgHDbgK/bgfDbALBbAK/awK7bAS9agK5agS6aQK2awu3agSyhFuxdjWvdTSvbyuqbyaxaRGqaAipaBqTgHCAe3Z7enShbjl0cmtsbWZsbGW3ZwK1ZAOyZAGxZgOwZAGuZQWvYwKtYgKrZwqoZQanZweqZAqrZASqYgSqYgOpYgOjZQ+kYxKlYgSjYQajYQWlYAKkXgKiXwWgYAShXQOfXQOdXQOfXwGkXAKiXAGfWwKdXAOcWwKaWwKbWgKZWgKZWAGYVwKXWgGXWAWVWAOUWACUVwKSWAGWVgGVVgCRVgOVVQGTVQOQVQOQVAGRUgGNVAGNUgSKVASJUgCNUQGMUQGLUQCKUAGJUAGJTgGEWi6IUQGIUAGEUAGIUwCHTgKCTgCDTQGETAGCTQGATAOATACDSwKCSwGASwJ+SwR+SwF+SQF7WDx8TAJ9SwF9SgB8SgB6SgF9SQF6SQB5Txh5SQJ5SQF5SQBmUTx3RwJ+SAF7RwF5SAF4SAF9SAB+RwB5SAB3SAB6RgF5RgF5RQB4RQJ5RAF3RAB3QwFwSBZ2RwFzRQFyRQF1QwFxQwFwQwFuQgF0RQByRAB1QwBvQwBzQQFuQQBvPgFuPgBtQQBqQABqPgBpPQBoPgBnPQBmPAFlPABlOwBkOwBjOwBCPztjOgBhOQBGKAEsKBY4IgAgHh4VDQARCQAJCQgIBAAEAwIBAQEAAQAAAAAAAAAAAAAAAAAAAAAI/wD3CRxIsKDBgwgTGkSCpIzCffX+7AqUEN8+JkqaOJFCRk3CV1bYxEpzEJUdPE6gkFmjZ5EhQQlZ3OgDSpCZJknASenTZoubJ1HOHCpFipMjhPdigNDSrNOgNWryLGN0pQqdJ1TmFCJG7hsvVQiJjKgSCRqlRJKgYeKy4sWoM3DyPOLmjpy6cgl3cMHEbdWxcMgiYUlxQpqcQo0sFUOnLNm3hLI6IWPmjFgnUZ7qFIkRx8+jWa1+dTvlaptCWrCs0WI27Fm0Snfq7GnUypiwX8AgfcKlENUueZNiOXvm7RIiX3wmCUOXbVoqQHoewqOnT5amSpReGfojz9Amau/Yjf8LBe+hwD1TlsAhpIgQGzvCTNm69s7cunrmBR5ZYmRKmjdgFJGFNNXoMs0625yzTzD5gRCBCDTUcIMNOgjRyzjiGHOOMgJZZB4ODxBggAIauNDDEKNkk44u2eSS30A8YPBAAxJwAAMPP9SSjTjYaPPOiwLl0IEFFGRQAgw4AFELNbpcEwqQAsWQwQQWbBBCCTP4MMotpNwCpUAlSOCAAhJUEIIKNnSxSSasfLlPCwscYEACDEigAQk6ZJFIJm7uQ8AAAwhQAAIQXNACFnOA1ecH8QAAQACCVqAEGn0KZIILBSXRRBWV7uNFGAUF4UE7nYrxhT0EeYFCPp0eJMYY87QHalAQMuQXEAAh+QQACgAAACwSABgAGAAbAIfz5+Hy5uDx5d/v5N7v4Nnt4dzr4Nrt39js3dbu3NTp3Nbt29Lq29Tp29Tp29Pp18/l1tDk1tDl1c3l1M3k1Mzi1Mzg0srg0cne0cnj0Mfgz8fdzsXczsXczMXZzMbZzMTZy8PZy8LYysLZycLUx7/Uxr7Sw7vQwbzPwbrOwbjOwbfLwLnMv7bLv7XJwLjKvrXNvbjMvbbKvLPJu7PJu7HGuLLFtqvDt6+/tq/Bta2/sarKrZrArqe8sKm7r6i7q6W3q6TIp5C4qKG0qKGzp5+zopu/m4bBmIKvoZm7loC3loKtoZqsoZutoJqrn5irm5SrmpOhmpOtmY6nmJKlmZO5lYC3kHq4hGnNgCGghnqvf1eckIqZjYeZjIaPioSef2eNh4CIh37CeSvFeRnAcx3BcgnKcQHKbwLIbwLFbQK/bQO/bQK/bQHCbALAbALAbAG/awLAagK/agKydze+bAO+awO5awKpaxS6agOqagupah6melmnd0Oad2WjbDymahKIdmlramSxaAixaAexZQKvZQSwZAGvYwGtaQmtZgeuZgKsYwKmZxmnYgmmYgeqYQKpYQKlYAWlXwGlXgGjZBWjZAakYQ+jYgWhYQWjYgSkXgChXwagXgSfXgGiXAKfXAWdWgCcXAScWQGcWQCaWQKYWASXWAWXWAKZVgKWWAKUWAKVVgGTVQKRVAKQVAGPVQOSUwGQUwGQUQGPUQCKWCqNUgOOVAGLUwGOUgGOUQGNUQGOUgCDWCpkZF6GUQJeXlpbWlWMUAKLTwGKTwOJUAGHTgKHTgCHTQCETwGGTQCFTQGFTQCCTwGCTgGGTAGDSwGCSwGGSQGBSgF/SQF/SAF+SAF9SQN9SQJ9SAJ5SgF7RwN6RQB5RAB3SAR4RQFzRQFuRA1yRAF2QwF1QgF0QgBzQgFzQQFyQQBxQAFuQwlwQwFvQgFuQgFsQQVqPwBmPgpnPQFkPAJXNAEyHQEwGgAkFQAiFQQVEAkHBgABBAEFAwABAQEBAAAAAAAAAAAAAAAI/wD7CRxIUCC9M2jSxCnIsCGkN23cwCHUqZ++Ug0FRrM1DVW/RXLg1MHzyFWhV5XmZcx0BxGnZ2voqKGDB86iUIjyZOxHaYeRRMp0TTpEyJAkdIySaNnJh4aKOaKmHRulCdQyWFZeWNn5x0aLI55WkTO2K9k5Ukpk7NnpTAmPObJm5SoHrRquWHqq7BzIiNU2btS8SYMmbNypS3sFqiJ2bloxb+WuiTOXylfifs1cPcOmrRs+a8OCcZJ3+R6mVrVMtcvX6BMpR9kuM8tCq9SmQWUERfJzRd3lb1yQ9BEzBguWKz+guEvMb10XIiYyLEjwoIOOKezC7Y2XbkuTGRcaOJSQUMKHk+x74b2jwiSHCAwWQLDosaQbsvTgngy5UeIDCBIp3CAEL7fsJQ8vRfyAQggbcLDBCDHw8AUrifWRAwwjVCABBRNo0MEJUtSTmCIreBCBAgcQgAADEHhgx2X2sKFAAQYMIMAAAARghiWX9VNDEAyRAWSPUbjAEBA49NiPF2DcUxAgXigZSBi/ELRPL8AoqWVAADs=\" />"
          }
        },
        "5c7d73b44a4d44e4b08b66f4d1b5ce36": {
          "model_module": "@jupyter-widgets/base",
          "model_name": "LayoutModel",
          "model_module_version": "1.2.0",
          "state": {
            "_model_module": "@jupyter-widgets/base",
            "_model_module_version": "1.2.0",
            "_model_name": "LayoutModel",
            "_view_count": null,
            "_view_module": "@jupyter-widgets/base",
            "_view_module_version": "1.2.0",
            "_view_name": "LayoutView",
            "align_content": null,
            "align_items": null,
            "align_self": null,
            "border": null,
            "bottom": null,
            "display": null,
            "flex": null,
            "flex_flow": null,
            "grid_area": null,
            "grid_auto_columns": null,
            "grid_auto_flow": null,
            "grid_auto_rows": null,
            "grid_column": null,
            "grid_gap": null,
            "grid_row": null,
            "grid_template_areas": null,
            "grid_template_columns": null,
            "grid_template_rows": null,
            "height": null,
            "justify_content": null,
            "justify_items": null,
            "left": null,
            "margin": null,
            "max_height": null,
            "max_width": null,
            "min_height": null,
            "min_width": null,
            "object_fit": null,
            "object_position": null,
            "order": null,
            "overflow": null,
            "overflow_x": null,
            "overflow_y": null,
            "padding": null,
            "right": null,
            "top": null,
            "visibility": null,
            "width": null
          }
        },
        "6ff9b660352b4ccdaa37bbcdba98fae8": {
          "model_module": "@jupyter-widgets/controls",
          "model_name": "DescriptionStyleModel",
          "model_module_version": "1.5.0",
          "state": {
            "_model_module": "@jupyter-widgets/controls",
            "_model_module_version": "1.5.0",
            "_model_name": "DescriptionStyleModel",
            "_view_count": null,
            "_view_module": "@jupyter-widgets/base",
            "_view_module_version": "1.2.0",
            "_view_name": "StyleView",
            "description_width": ""
          }
        }
      }
    }
  },
  "nbformat": 4,
  "nbformat_minor": 5
}